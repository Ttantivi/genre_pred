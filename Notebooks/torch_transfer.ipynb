{
 "cells": [
  {
   "attachments": {},
   "cell_type": "markdown",
   "id": "9ffb8d38",
   "metadata": {},
   "source": [
    "# This notebook uses the CNN as feature extractor and runs traditional ML algorithms for prediction."
   ]
  },
  {
   "attachments": {},
   "cell_type": "markdown",
   "id": "b2b153a4",
   "metadata": {},
   "source": [
    "Install the following if not already on machine."
   ]
  },
  {
   "cell_type": "code",
   "execution_count": 38,
   "id": "17273805",
   "metadata": {},
   "outputs": [
    {
     "name": "stdout",
     "output_type": "stream",
     "text": [
      "Requirement already satisfied: soundfile in /Users/bryanwang/opt/miniconda3/envs/stat254-torch/lib/python3.9/site-packages (0.12.1)\n",
      "Requirement already satisfied: cffi>=1.0 in /Users/bryanwang/opt/miniconda3/envs/stat254-torch/lib/python3.9/site-packages (from soundfile) (1.15.1)\n",
      "Requirement already satisfied: pycparser in /Users/bryanwang/opt/miniconda3/envs/stat254-torch/lib/python3.9/site-packages (from cffi>=1.0->soundfile) (2.21)\n",
      "Requirement already satisfied: tqdm in /Users/bryanwang/opt/miniconda3/envs/stat254-torch/lib/python3.9/site-packages (4.65.0)\n",
      "Collecting scikit-learn\n",
      "  Downloading scikit_learn-1.2.2-cp39-cp39-macosx_10_9_x86_64.whl (9.1 MB)\n",
      "\u001b[2K     \u001b[90m━━━━━━━━━━━━━━━━━━━━━━━━━━━━━━━━━━━━━━━━\u001b[0m \u001b[32m9.1/9.1 MB\u001b[0m \u001b[31m34.1 MB/s\u001b[0m eta \u001b[36m0:00:00\u001b[0m00:01\u001b[0m00:01\u001b[0m\n",
      "\u001b[?25hRequirement already satisfied: numpy>=1.17.3 in /Users/bryanwang/opt/miniconda3/envs/stat254-torch/lib/python3.9/site-packages (from scikit-learn) (1.23.5)\n",
      "Collecting joblib>=1.1.1\n",
      "  Using cached joblib-1.2.0-py3-none-any.whl (297 kB)\n",
      "Collecting scipy>=1.3.2\n",
      "  Downloading scipy-1.10.1-cp39-cp39-macosx_10_9_x86_64.whl (35.2 MB)\n",
      "\u001b[2K     \u001b[90m━━━━━━━━━━━━━━━━━━━━━━━━━━━━━━━━━━━━━━━━\u001b[0m \u001b[32m35.2/35.2 MB\u001b[0m \u001b[31m40.1 MB/s\u001b[0m eta \u001b[36m0:00:00\u001b[0m00:01\u001b[0m00:01\u001b[0m\n",
      "\u001b[?25hCollecting threadpoolctl>=2.0.0\n",
      "  Using cached threadpoolctl-3.1.0-py3-none-any.whl (14 kB)\n",
      "Installing collected packages: threadpoolctl, scipy, joblib, scikit-learn\n",
      "Successfully installed joblib-1.2.0 scikit-learn-1.2.2 scipy-1.10.1 threadpoolctl-3.1.0\n"
     ]
    }
   ],
   "source": [
    "!pip install soundfile\n",
    "!pip install tqdm\n",
    "!pip install -U scikit-learn"
   ]
  },
  {
   "cell_type": "code",
   "execution_count": 1,
   "id": "b6ca4aee",
   "metadata": {},
   "outputs": [],
   "source": [
    "from sklearn.preprocessing import LabelBinarizer, LabelEncoder, StandardScaler\n",
    "from sklearn.decomposition import PCA\n",
    "from sklearn.pipeline import Pipeline\n",
    "from sklearn.linear_model import LogisticRegression\n",
    "from sklearn.neighbors import KNeighborsClassifier\n",
    "from sklearn.ensemble import RandomForestClassifier, AdaBoostClassifier\n",
    "from sklearn.metrics import confusion_matrix, accuracy_score\n",
    "from sklearn.svm import SVC, LinearSVC\n",
    "from sklearn.tree import DecisionTreeClassifier\n",
    "from sklearn.neural_network import MLPClassifier\n",
    "from sklearn.naive_bayes import GaussianNB\n",
    "from sklearn.discriminant_analysis import QuadraticDiscriminantAnalysis\n",
    "from sklearn.multiclass import OneVsRestClassifier\n",
    "import xgboost as xgb"
   ]
  },
  {
   "cell_type": "code",
   "execution_count": 3,
   "id": "594ac2dc-1d0a-4ed5-864c-6d49b3614aeb",
   "metadata": {},
   "outputs": [
    {
     "name": "stderr",
     "output_type": "stream",
     "text": [
      "Using cache found in C:\\Users\\SKPC/.cache\\torch\\hub\\harritaylor_torchvggish_master\n"
     ]
    },
    {
     "data": {
      "text/plain": [
       "VGGish(\n",
       "  (features): Sequential(\n",
       "    (0): Conv2d(1, 64, kernel_size=(3, 3), stride=(1, 1), padding=(1, 1))\n",
       "    (1): ReLU(inplace=True)\n",
       "    (2): MaxPool2d(kernel_size=2, stride=2, padding=0, dilation=1, ceil_mode=False)\n",
       "    (3): Conv2d(64, 128, kernel_size=(3, 3), stride=(1, 1), padding=(1, 1))\n",
       "    (4): ReLU(inplace=True)\n",
       "    (5): MaxPool2d(kernel_size=2, stride=2, padding=0, dilation=1, ceil_mode=False)\n",
       "    (6): Conv2d(128, 256, kernel_size=(3, 3), stride=(1, 1), padding=(1, 1))\n",
       "    (7): ReLU(inplace=True)\n",
       "    (8): Conv2d(256, 256, kernel_size=(3, 3), stride=(1, 1), padding=(1, 1))\n",
       "    (9): ReLU(inplace=True)\n",
       "    (10): MaxPool2d(kernel_size=2, stride=2, padding=0, dilation=1, ceil_mode=False)\n",
       "    (11): Conv2d(256, 512, kernel_size=(3, 3), stride=(1, 1), padding=(1, 1))\n",
       "    (12): ReLU(inplace=True)\n",
       "    (13): Conv2d(512, 512, kernel_size=(3, 3), stride=(1, 1), padding=(1, 1))\n",
       "    (14): ReLU(inplace=True)\n",
       "    (15): MaxPool2d(kernel_size=2, stride=2, padding=0, dilation=1, ceil_mode=False)\n",
       "  )\n",
       "  (embeddings): Sequential(\n",
       "    (0): Linear(in_features=12288, out_features=4096, bias=True)\n",
       "    (1): ReLU(inplace=True)\n",
       "    (2): Linear(in_features=4096, out_features=4096, bias=True)\n",
       "    (3): ReLU(inplace=True)\n",
       "    (4): Linear(in_features=4096, out_features=128, bias=True)\n",
       "    (5): ReLU(inplace=True)\n",
       "  )\n",
       ")"
      ]
     },
     "execution_count": 3,
     "metadata": {},
     "output_type": "execute_result"
    }
   ],
   "source": [
    "import torch\n",
    "\n",
    "# import the pre-trained vggish pytorch port.\n",
    "model = torch.hub.load('harritaylor/torchvggish', 'vggish', postprocess=False)\n",
    "model.eval()"
   ]
  },
  {
   "cell_type": "code",
   "execution_count": 4,
   "id": "09ecba1d",
   "metadata": {},
   "outputs": [],
   "source": [
    "# this removes the final ReLU activation layer to match original Tensorflow architecture\n",
    "model.embeddings = torch.nn.Sequential(*list(model.embeddings.children())[:-1])"
   ]
  },
  {
   "attachments": {},
   "cell_type": "markdown",
   "id": "8e9f9af9",
   "metadata": {},
   "source": [
    "# Load Data"
   ]
  },
  {
   "cell_type": "code",
   "execution_count": 5,
   "id": "625e56d9",
   "metadata": {},
   "outputs": [],
   "source": [
    "import os\n",
    "import pandas as pd\n",
    "import ast\n",
    "\n",
    "def load(filepath):\n",
    "\n",
    "    filename = os.path.basename(filepath)\n",
    "\n",
    "    if 'features' in filename:\n",
    "        return pd.read_csv(filepath, index_col=0, header=[0, 1, 2])\n",
    "\n",
    "    if 'echonest' in filename:\n",
    "        return pd.read_csv(filepath, index_col=0, header=[0, 1, 2])\n",
    "\n",
    "    if 'genres' in filename:\n",
    "        return pd.read_csv(filepath, index_col=0)\n",
    "\n",
    "    if 'tracks' in filename:\n",
    "        tracks = pd.read_csv(filepath, index_col=0, header=[0, 1])\n",
    "\n",
    "        COLUMNS = [('track', 'tags'), ('album', 'tags'), ('artist', 'tags'),\n",
    "                   ('track', 'genres'), ('track', 'genres_all')]\n",
    "        for column in COLUMNS:\n",
    "            tracks[column] = tracks[column].map(ast.literal_eval)\n",
    "\n",
    "        COLUMNS = [('track', 'date_created'), ('track', 'date_recorded'),\n",
    "                   ('album', 'date_created'), ('album', 'date_released'),\n",
    "                   ('artist', 'date_created'), ('artist', 'active_year_begin'),\n",
    "                   ('artist', 'active_year_end')]\n",
    "        for column in COLUMNS:\n",
    "            tracks[column] = pd.to_datetime(tracks[column])\n",
    "\n",
    "        SUBSETS = ('small', 'medium', 'large')\n",
    "        try:\n",
    "            tracks['set', 'subset'] = tracks['set', 'subset'].astype(\n",
    "                    'category', categories=SUBSETS, ordered=True)\n",
    "        except (ValueError, TypeError):\n",
    "            # the categories and ordered arguments were removed in pandas 0.25\n",
    "            tracks['set', 'subset'] = tracks['set', 'subset'].astype(\n",
    "                     pd.CategoricalDtype(categories=SUBSETS, ordered=True))\n",
    "\n",
    "        COLUMNS = [('track', 'genre_top'), ('track', 'license'),\n",
    "                   ('album', 'type'), ('album', 'information'),\n",
    "                   ('artist', 'bio')]\n",
    "        for column in COLUMNS:\n",
    "            tracks[column] = tracks[column].astype('category')\n",
    "\n",
    "        return tracks\n",
    "\n",
    "tracks = load('../data/fma_metadata/tracks.csv')\n",
    "genres = load('../data/fma_metadata/genres.csv')"
   ]
  },
  {
   "cell_type": "code",
   "execution_count": 6,
   "id": "4e51e77c",
   "metadata": {},
   "outputs": [],
   "source": [
    "# subset to just the small dataset\n",
    "small = tracks[tracks['set', 'subset'] <= 'small']"
   ]
  },
  {
   "cell_type": "code",
   "execution_count": 7,
   "id": "a729e20f",
   "metadata": {},
   "outputs": [],
   "source": [
    "def get_audio_path(audio_dir, track_id):\n",
    "    \"\"\"\n",
    "    Return the path to the mp3 given the directory where the audio is stored\n",
    "    and the track ID.\n",
    "    Examples\n",
    "    --------\n",
    "    >>> import utils\n",
    "    >>> AUDIO_DIR = os.environ.get('AUDIO_DIR')\n",
    "    >>> utils.get_audio_path(AUDIO_DIR, 2)\n",
    "    '../data/fma_small/000/000002.mp3'\n",
    "    \"\"\"\n",
    "    tid_str = '{:06d}'.format(track_id)\n",
    "    return os.path.join(audio_dir, tid_str[:3], tid_str + '.mp3')"
   ]
  },
  {
   "cell_type": "code",
   "execution_count": 8,
   "id": "a01d2f61",
   "metadata": {},
   "outputs": [
    {
     "name": "stdout",
     "output_type": "stream",
     "text": [
      "6400 training examples, 800 validation examples, 800 testing examples\n"
     ]
    }
   ],
   "source": [
    "# train, validation, test split\n",
    "train = small.index[small['set', 'split'] == 'training']\n",
    "val = small.index[small['set', 'split'] == 'validation']\n",
    "test = small.index[small['set', 'split'] == 'test']\n",
    "\n",
    "print('{} training examples, {} validation examples, {} testing examples'.format(*map(len, [train, val, test])))"
   ]
  },
  {
   "attachments": {},
   "cell_type": "markdown",
   "id": "694f8faf",
   "metadata": {},
   "source": [
    "# Running the CNN to get embeddings"
   ]
  },
  {
   "cell_type": "code",
   "execution_count": 26,
   "id": "e6421630",
   "metadata": {},
   "outputs": [
    {
     "name": "stderr",
     "output_type": "stream",
     "text": [
      "  6%|▌         | 490/8000 [06:11<1:33:14,  1.34it/s][src/libmpg123/layer3.c:INT123_do_layer3():1841] error: dequantization failed!\n",
      " 11%|█▏        | 901/8000 [11:21<1:28:11,  1.34it/s][src/libmpg123/layer3.c:INT123_do_layer3():1801] error: dequantization failed!\n",
      " 15%|█▍        | 1181/8000 [14:57<1:25:58,  1.32it/s][src/libmpg123/layer3.c:INT123_do_layer3():1801] error: dequantization failed!\n",
      " 28%|██▊       | 2265/8000 [28:41<1:10:43,  1.35it/s][src/libmpg123/layer3.c:INT123_do_layer3():1773] error: part2_3_length (3360) too large for available bit count (3240)\n",
      " 28%|██▊       | 2267/8000 [28:42<1:05:08,  1.47it/s][src/libmpg123/layer3.c:INT123_do_layer3():1773] error: part2_3_length (3328) too large for available bit count (3240)\n",
      " 55%|█████▌    | 4423/8000 [56:07<43:54,  1.36it/s]  Note: Illegal Audio-MPEG-Header 0x00000000 at offset 33361.\n",
      "Note: Trying to resync...\n",
      "Note: Skipped 1024 bytes in input.\n",
      "[src/libmpg123/parse.c:wetwork():1365] error: Giving up resync after 1024 bytes - your stream is not nice... (maybe increasing resync limit could help).\n",
      "Note: Illegal Audio-MPEG-Header 0x00000000 at offset 22401.\n",
      "Note: Trying to resync...\n",
      "Note: Skipped 1024 bytes in input.\n",
      "[src/libmpg123/parse.c:wetwork():1365] error: Giving up resync after 1024 bytes - your stream is not nice... (maybe increasing resync limit could help).\n",
      "[src/libmpg123/layer3.c:INT123_do_layer3():1801] error: dequantization failed!\n",
      "Note: Illegal Audio-MPEG-Header 0x00000000 at offset 63168.\n",
      "Note: Trying to resync...\n",
      "Note: Skipped 1024 bytes in input.\n",
      "[src/libmpg123/parse.c:wetwork():1365] error: Giving up resync after 1024 bytes - your stream is not nice... (maybe increasing resync limit could help).\n"
     ]
    },
    {
     "name": "stdout",
     "output_type": "stream",
     "text": [
      "error with audio stream, continuing\n",
      "error with audio stream, continuing\n",
      "error with audio stream, continuing\n"
     ]
    },
    {
     "name": "stderr",
     "output_type": "stream",
     "text": [
      " 56%|█████▌    | 4470/8000 [56:40<43:54,  1.34it/s][src/libmpg123/parse.c:do_readahead():1099] warning: Cannot read next header, a one-frame stream? Duh...\n"
     ]
    },
    {
     "name": "stdout",
     "output_type": "stream",
     "text": [
      "error with audio stream, continuing\n"
     ]
    },
    {
     "name": "stderr",
     "output_type": "stream",
     "text": [
      " 61%|██████▏   | 4903/8000 [1:02:08<40:17,  1.28it/s][src/libmpg123/parse.c:do_readahead():1099] warning: Cannot read next header, a one-frame stream? Duh...\n"
     ]
    },
    {
     "name": "stdout",
     "output_type": "stream",
     "text": [
      "error with audio stream, continuing\n"
     ]
    },
    {
     "name": "stderr",
     "output_type": "stream",
     "text": [
      " 87%|████████▋ | 6965/8000 [1:27:37<13:05,  1.32it/s][src/libmpg123/parse.c:do_readahead():1099] warning: Cannot read next header, a one-frame stream? Duh...\n"
     ]
    },
    {
     "name": "stdout",
     "output_type": "stream",
     "text": [
      "error with audio stream, continuing\n"
     ]
    },
    {
     "name": "stderr",
     "output_type": "stream",
     "text": [
      "100%|██████████| 8000/8000 [1:40:48<00:00,  1.32it/s]\n"
     ]
    }
   ],
   "source": [
    "from tqdm import tqdm\n",
    "import numpy as np\n",
    "\n",
    "AUDIO_DIR = \"../data/fma_small\"\n",
    "\n",
    "for i in tqdm(small.index):\n",
    "    try:\n",
    "        embed = model.forward(get_audio_path(AUDIO_DIR, i))\n",
    "        with open(f'../data/small_embeds/{i}.npy', 'wb') as f:\n",
    "                np.save(f, embed.detach().numpy())\n",
    "    except:\n",
    "        print(\"error with audio stream, continuing\")"
   ]
  },
  {
   "cell_type": "code",
   "execution_count": 12,
   "id": "8a862563",
   "metadata": {},
   "outputs": [],
   "source": [
    "# this function flattens each embeds to a one dimensional tensor, because it returns a 31*128 tensor\n",
    "def load_one(idx):\n",
    "    try:\n",
    "        embed = np.load(f'../data/small_embeds_final/{idx}.npy').flatten()\n",
    "        return embed\n",
    "    except:\n",
    "        return np.zeros(31*128)\n",
    "    \n",
    "embed_series = pd.Series(small.index).apply(load_one)"
   ]
  },
  {
   "cell_type": "code",
   "execution_count": 13,
   "id": "44176efc",
   "metadata": {},
   "outputs": [],
   "source": [
    "# load the embeds into a dataframe\n",
    "embed_df = pd.DataFrame.from_dict(dict(zip(embed_series.index, embed_series.values))).T\n",
    "\n",
    "# set the index\n",
    "embed_df = embed_df.set_index(small.index)"
   ]
  },
  {
   "cell_type": "code",
   "execution_count": 14,
   "id": "08023da1",
   "metadata": {},
   "outputs": [],
   "source": [
    "# filter out tracks that couldn't be read / embedded.\n",
    "\n",
    "embed_df = embed_df[~(embed_df.sum(axis=1) == 0)]"
   ]
  },
  {
   "cell_type": "code",
   "execution_count": 15,
   "id": "e17c45aa",
   "metadata": {},
   "outputs": [
    {
     "data": {
      "text/html": [
       "<div>\n",
       "<style scoped>\n",
       "    .dataframe tbody tr th:only-of-type {\n",
       "        vertical-align: middle;\n",
       "    }\n",
       "\n",
       "    .dataframe tbody tr th {\n",
       "        vertical-align: top;\n",
       "    }\n",
       "\n",
       "    .dataframe thead th {\n",
       "        text-align: right;\n",
       "    }\n",
       "</style>\n",
       "<table border=\"1\" class=\"dataframe\">\n",
       "  <thead>\n",
       "    <tr style=\"text-align: right;\">\n",
       "      <th></th>\n",
       "      <th>label_0</th>\n",
       "      <th>label_1</th>\n",
       "      <th>label_2</th>\n",
       "      <th>label_3</th>\n",
       "      <th>label_4</th>\n",
       "      <th>label_5</th>\n",
       "      <th>label_6</th>\n",
       "      <th>label_7</th>\n",
       "    </tr>\n",
       "    <tr>\n",
       "      <th>track_id</th>\n",
       "      <th></th>\n",
       "      <th></th>\n",
       "      <th></th>\n",
       "      <th></th>\n",
       "      <th></th>\n",
       "      <th></th>\n",
       "      <th></th>\n",
       "      <th></th>\n",
       "    </tr>\n",
       "  </thead>\n",
       "  <tbody>\n",
       "    <tr>\n",
       "      <th>2</th>\n",
       "      <td>0</td>\n",
       "      <td>0</td>\n",
       "      <td>0</td>\n",
       "      <td>1</td>\n",
       "      <td>0</td>\n",
       "      <td>0</td>\n",
       "      <td>0</td>\n",
       "      <td>0</td>\n",
       "    </tr>\n",
       "    <tr>\n",
       "      <th>5</th>\n",
       "      <td>0</td>\n",
       "      <td>0</td>\n",
       "      <td>0</td>\n",
       "      <td>1</td>\n",
       "      <td>0</td>\n",
       "      <td>0</td>\n",
       "      <td>0</td>\n",
       "      <td>0</td>\n",
       "    </tr>\n",
       "    <tr>\n",
       "      <th>10</th>\n",
       "      <td>0</td>\n",
       "      <td>0</td>\n",
       "      <td>0</td>\n",
       "      <td>0</td>\n",
       "      <td>0</td>\n",
       "      <td>0</td>\n",
       "      <td>1</td>\n",
       "      <td>0</td>\n",
       "    </tr>\n",
       "    <tr>\n",
       "      <th>140</th>\n",
       "      <td>0</td>\n",
       "      <td>0</td>\n",
       "      <td>1</td>\n",
       "      <td>0</td>\n",
       "      <td>0</td>\n",
       "      <td>0</td>\n",
       "      <td>0</td>\n",
       "      <td>0</td>\n",
       "    </tr>\n",
       "    <tr>\n",
       "      <th>141</th>\n",
       "      <td>0</td>\n",
       "      <td>0</td>\n",
       "      <td>1</td>\n",
       "      <td>0</td>\n",
       "      <td>0</td>\n",
       "      <td>0</td>\n",
       "      <td>0</td>\n",
       "      <td>0</td>\n",
       "    </tr>\n",
       "    <tr>\n",
       "      <th>...</th>\n",
       "      <td>...</td>\n",
       "      <td>...</td>\n",
       "      <td>...</td>\n",
       "      <td>...</td>\n",
       "      <td>...</td>\n",
       "      <td>...</td>\n",
       "      <td>...</td>\n",
       "      <td>...</td>\n",
       "    </tr>\n",
       "    <tr>\n",
       "      <th>154308</th>\n",
       "      <td>0</td>\n",
       "      <td>0</td>\n",
       "      <td>0</td>\n",
       "      <td>1</td>\n",
       "      <td>0</td>\n",
       "      <td>0</td>\n",
       "      <td>0</td>\n",
       "      <td>0</td>\n",
       "    </tr>\n",
       "    <tr>\n",
       "      <th>154309</th>\n",
       "      <td>0</td>\n",
       "      <td>0</td>\n",
       "      <td>0</td>\n",
       "      <td>1</td>\n",
       "      <td>0</td>\n",
       "      <td>0</td>\n",
       "      <td>0</td>\n",
       "      <td>0</td>\n",
       "    </tr>\n",
       "    <tr>\n",
       "      <th>154413</th>\n",
       "      <td>0</td>\n",
       "      <td>0</td>\n",
       "      <td>0</td>\n",
       "      <td>0</td>\n",
       "      <td>0</td>\n",
       "      <td>0</td>\n",
       "      <td>1</td>\n",
       "      <td>0</td>\n",
       "    </tr>\n",
       "    <tr>\n",
       "      <th>154414</th>\n",
       "      <td>0</td>\n",
       "      <td>0</td>\n",
       "      <td>0</td>\n",
       "      <td>0</td>\n",
       "      <td>0</td>\n",
       "      <td>0</td>\n",
       "      <td>1</td>\n",
       "      <td>0</td>\n",
       "    </tr>\n",
       "    <tr>\n",
       "      <th>155066</th>\n",
       "      <td>0</td>\n",
       "      <td>0</td>\n",
       "      <td>0</td>\n",
       "      <td>1</td>\n",
       "      <td>0</td>\n",
       "      <td>0</td>\n",
       "      <td>0</td>\n",
       "      <td>0</td>\n",
       "    </tr>\n",
       "  </tbody>\n",
       "</table>\n",
       "<p>8000 rows × 8 columns</p>\n",
       "</div>"
      ],
      "text/plain": [
       "          label_0  label_1  label_2  label_3  label_4  label_5  label_6  \\\n",
       "track_id                                                                  \n",
       "2               0        0        0        1        0        0        0   \n",
       "5               0        0        0        1        0        0        0   \n",
       "10              0        0        0        0        0        0        1   \n",
       "140             0        0        1        0        0        0        0   \n",
       "141             0        0        1        0        0        0        0   \n",
       "...           ...      ...      ...      ...      ...      ...      ...   \n",
       "154308          0        0        0        1        0        0        0   \n",
       "154309          0        0        0        1        0        0        0   \n",
       "154413          0        0        0        0        0        0        1   \n",
       "154414          0        0        0        0        0        0        1   \n",
       "155066          0        0        0        1        0        0        0   \n",
       "\n",
       "          label_7  \n",
       "track_id           \n",
       "2               0  \n",
       "5               0  \n",
       "10              0  \n",
       "140             0  \n",
       "141             0  \n",
       "...           ...  \n",
       "154308          0  \n",
       "154309          0  \n",
       "154413          0  \n",
       "154414          0  \n",
       "155066          0  \n",
       "\n",
       "[8000 rows x 8 columns]"
      ]
     },
     "execution_count": 15,
     "metadata": {},
     "output_type": "execute_result"
    }
   ],
   "source": [
    "# One-hot encoding for genre labels\n",
    "labels_onehot = LabelBinarizer().fit_transform(small['track', 'genre_top'])\n",
    "labels_onehot = pd.DataFrame(labels_onehot, index=small.index)\n",
    "labels_onehot.columns = [f'label_{i}' for i in labels_onehot.columns]\n",
    "labels_onehot"
   ]
  },
  {
   "cell_type": "code",
   "execution_count": 16,
   "id": "49632c74",
   "metadata": {},
   "outputs": [
    {
     "data": {
      "text/plain": [
       "array([[0, 0, 0, ..., 0, 0, 0],\n",
       "       [0, 0, 0, ..., 0, 0, 0],\n",
       "       [0, 0, 0, ..., 0, 1, 0],\n",
       "       ...,\n",
       "       [0, 0, 0, ..., 0, 1, 0],\n",
       "       [0, 0, 0, ..., 0, 1, 0],\n",
       "       [0, 0, 0, ..., 0, 0, 0]])"
      ]
     },
     "execution_count": 16,
     "metadata": {},
     "output_type": "execute_result"
    }
   ],
   "source": [
    "# labels_onehot = LabelBinarizer().fit_transform(small['track', 'genre_top'])\n",
    "# labels_onehot"
   ]
  },
  {
   "cell_type": "code",
   "execution_count": 17,
   "id": "9d4796a1",
   "metadata": {},
   "outputs": [],
   "source": [
    "# encode labels\n",
    "labels_encoded = LabelEncoder().fit_transform(small['track', 'genre_top'])"
   ]
  },
  {
   "cell_type": "code",
   "execution_count": 18,
   "id": "7d91c8bf",
   "metadata": {},
   "outputs": [
    {
     "name": "stderr",
     "output_type": "stream",
     "text": [
      "C:\\Users\\SKPC\\AppData\\Local\\Temp\\ipykernel_3620\\1688927456.py:1: SettingWithCopyWarning: \n",
      "A value is trying to be set on a copy of a slice from a DataFrame.\n",
      "Try using .loc[row_indexer,col_indexer] = value instead\n",
      "\n",
      "See the caveats in the documentation: https://pandas.pydata.org/pandas-docs/stable/user_guide/indexing.html#returning-a-view-versus-a-copy\n",
      "  small['labels_encoded'] = labels_encoded\n"
     ]
    }
   ],
   "source": [
    "small['labels_encoded'] = labels_encoded"
   ]
  },
  {
   "cell_type": "code",
   "execution_count": 19,
   "id": "37ae1505",
   "metadata": {},
   "outputs": [
    {
     "data": {
      "text/plain": [
       "track_id\n",
       "2         3\n",
       "5         3\n",
       "10        6\n",
       "140       2\n",
       "141       2\n",
       "         ..\n",
       "154308    3\n",
       "154309    3\n",
       "154413    6\n",
       "154414    6\n",
       "155066    3\n",
       "Name: labels_encoded, Length: 8000, dtype: int32"
      ]
     },
     "execution_count": 19,
     "metadata": {},
     "output_type": "execute_result"
    }
   ],
   "source": [
    "small['labels_encoded']"
   ]
  },
  {
   "cell_type": "code",
   "execution_count": 20,
   "id": "6c987a6c",
   "metadata": {},
   "outputs": [
    {
     "data": {
      "text/html": [
       "<div>\n",
       "<style scoped>\n",
       "    .dataframe tbody tr th:only-of-type {\n",
       "        vertical-align: middle;\n",
       "    }\n",
       "\n",
       "    .dataframe tbody tr th {\n",
       "        vertical-align: top;\n",
       "    }\n",
       "\n",
       "    .dataframe thead th {\n",
       "        text-align: right;\n",
       "    }\n",
       "</style>\n",
       "<table border=\"1\" class=\"dataframe\">\n",
       "  <thead>\n",
       "    <tr style=\"text-align: right;\">\n",
       "      <th></th>\n",
       "      <th>0</th>\n",
       "      <th>1</th>\n",
       "      <th>2</th>\n",
       "      <th>3</th>\n",
       "      <th>4</th>\n",
       "      <th>5</th>\n",
       "      <th>6</th>\n",
       "      <th>7</th>\n",
       "      <th>8</th>\n",
       "      <th>9</th>\n",
       "      <th>...</th>\n",
       "      <th>3959</th>\n",
       "      <th>3960</th>\n",
       "      <th>3961</th>\n",
       "      <th>3962</th>\n",
       "      <th>3963</th>\n",
       "      <th>3964</th>\n",
       "      <th>3965</th>\n",
       "      <th>3966</th>\n",
       "      <th>3967</th>\n",
       "      <th>labels_encoded</th>\n",
       "    </tr>\n",
       "    <tr>\n",
       "      <th>track_id</th>\n",
       "      <th></th>\n",
       "      <th></th>\n",
       "      <th></th>\n",
       "      <th></th>\n",
       "      <th></th>\n",
       "      <th></th>\n",
       "      <th></th>\n",
       "      <th></th>\n",
       "      <th></th>\n",
       "      <th></th>\n",
       "      <th></th>\n",
       "      <th></th>\n",
       "      <th></th>\n",
       "      <th></th>\n",
       "      <th></th>\n",
       "      <th></th>\n",
       "      <th></th>\n",
       "      <th></th>\n",
       "      <th></th>\n",
       "      <th></th>\n",
       "      <th></th>\n",
       "    </tr>\n",
       "  </thead>\n",
       "  <tbody>\n",
       "    <tr>\n",
       "      <th>2</th>\n",
       "      <td>-0.698666</td>\n",
       "      <td>-0.066649</td>\n",
       "      <td>-0.000531</td>\n",
       "      <td>-0.280849</td>\n",
       "      <td>0.091604</td>\n",
       "      <td>-0.727752</td>\n",
       "      <td>0.643959</td>\n",
       "      <td>0.017360</td>\n",
       "      <td>-0.528933</td>\n",
       "      <td>-0.572499</td>\n",
       "      <td>...</td>\n",
       "      <td>-0.513161</td>\n",
       "      <td>-0.479931</td>\n",
       "      <td>-0.435369</td>\n",
       "      <td>-1.071859</td>\n",
       "      <td>-0.070520</td>\n",
       "      <td>-0.442723</td>\n",
       "      <td>-1.105817</td>\n",
       "      <td>-0.038214</td>\n",
       "      <td>-0.309881</td>\n",
       "      <td>3</td>\n",
       "    </tr>\n",
       "    <tr>\n",
       "      <th>5</th>\n",
       "      <td>-0.442708</td>\n",
       "      <td>0.052575</td>\n",
       "      <td>0.071074</td>\n",
       "      <td>-0.344115</td>\n",
       "      <td>0.261202</td>\n",
       "      <td>-0.417586</td>\n",
       "      <td>0.363620</td>\n",
       "      <td>0.284545</td>\n",
       "      <td>-0.176374</td>\n",
       "      <td>-0.622329</td>\n",
       "      <td>...</td>\n",
       "      <td>-0.417630</td>\n",
       "      <td>-0.482327</td>\n",
       "      <td>-0.182185</td>\n",
       "      <td>-0.879638</td>\n",
       "      <td>0.016094</td>\n",
       "      <td>-0.336770</td>\n",
       "      <td>-1.275318</td>\n",
       "      <td>-0.309379</td>\n",
       "      <td>-0.221681</td>\n",
       "      <td>3</td>\n",
       "    </tr>\n",
       "    <tr>\n",
       "      <th>10</th>\n",
       "      <td>-0.339631</td>\n",
       "      <td>0.127341</td>\n",
       "      <td>0.222564</td>\n",
       "      <td>-0.184030</td>\n",
       "      <td>0.290061</td>\n",
       "      <td>-0.120663</td>\n",
       "      <td>-0.083058</td>\n",
       "      <td>0.180418</td>\n",
       "      <td>0.218018</td>\n",
       "      <td>-0.356597</td>\n",
       "      <td>...</td>\n",
       "      <td>-0.171288</td>\n",
       "      <td>-0.110426</td>\n",
       "      <td>-0.048964</td>\n",
       "      <td>-0.350825</td>\n",
       "      <td>0.030792</td>\n",
       "      <td>0.134033</td>\n",
       "      <td>-0.561954</td>\n",
       "      <td>0.129264</td>\n",
       "      <td>0.175977</td>\n",
       "      <td>6</td>\n",
       "    </tr>\n",
       "    <tr>\n",
       "      <th>140</th>\n",
       "      <td>-0.132327</td>\n",
       "      <td>-0.095099</td>\n",
       "      <td>0.798407</td>\n",
       "      <td>-0.331704</td>\n",
       "      <td>0.295047</td>\n",
       "      <td>-0.441052</td>\n",
       "      <td>-0.265907</td>\n",
       "      <td>-0.015102</td>\n",
       "      <td>-0.527640</td>\n",
       "      <td>-0.500278</td>\n",
       "      <td>...</td>\n",
       "      <td>-0.018307</td>\n",
       "      <td>0.166930</td>\n",
       "      <td>-0.106614</td>\n",
       "      <td>-0.304236</td>\n",
       "      <td>0.107357</td>\n",
       "      <td>0.393789</td>\n",
       "      <td>-0.353353</td>\n",
       "      <td>0.011052</td>\n",
       "      <td>-0.156305</td>\n",
       "      <td>2</td>\n",
       "    </tr>\n",
       "    <tr>\n",
       "      <th>141</th>\n",
       "      <td>-0.266731</td>\n",
       "      <td>0.226023</td>\n",
       "      <td>0.360905</td>\n",
       "      <td>-0.334780</td>\n",
       "      <td>0.032314</td>\n",
       "      <td>-0.293675</td>\n",
       "      <td>-0.288571</td>\n",
       "      <td>0.106768</td>\n",
       "      <td>-0.164602</td>\n",
       "      <td>-0.539508</td>\n",
       "      <td>...</td>\n",
       "      <td>0.089232</td>\n",
       "      <td>-0.048423</td>\n",
       "      <td>-0.136854</td>\n",
       "      <td>-0.179497</td>\n",
       "      <td>0.151896</td>\n",
       "      <td>-0.140548</td>\n",
       "      <td>-0.452160</td>\n",
       "      <td>0.139479</td>\n",
       "      <td>0.198652</td>\n",
       "      <td>2</td>\n",
       "    </tr>\n",
       "  </tbody>\n",
       "</table>\n",
       "<p>5 rows × 3969 columns</p>\n",
       "</div>"
      ],
      "text/plain": [
       "                 0         1         2         3         4         5  \\\n",
       "track_id                                                               \n",
       "2        -0.698666 -0.066649 -0.000531 -0.280849  0.091604 -0.727752   \n",
       "5        -0.442708  0.052575  0.071074 -0.344115  0.261202 -0.417586   \n",
       "10       -0.339631  0.127341  0.222564 -0.184030  0.290061 -0.120663   \n",
       "140      -0.132327 -0.095099  0.798407 -0.331704  0.295047 -0.441052   \n",
       "141      -0.266731  0.226023  0.360905 -0.334780  0.032314 -0.293675   \n",
       "\n",
       "                 6         7         8         9  ...      3959      3960  \\\n",
       "track_id                                          ...                       \n",
       "2         0.643959  0.017360 -0.528933 -0.572499  ... -0.513161 -0.479931   \n",
       "5         0.363620  0.284545 -0.176374 -0.622329  ... -0.417630 -0.482327   \n",
       "10       -0.083058  0.180418  0.218018 -0.356597  ... -0.171288 -0.110426   \n",
       "140      -0.265907 -0.015102 -0.527640 -0.500278  ... -0.018307  0.166930   \n",
       "141      -0.288571  0.106768 -0.164602 -0.539508  ...  0.089232 -0.048423   \n",
       "\n",
       "              3961      3962      3963      3964      3965      3966  \\\n",
       "track_id                                                               \n",
       "2        -0.435369 -1.071859 -0.070520 -0.442723 -1.105817 -0.038214   \n",
       "5        -0.182185 -0.879638  0.016094 -0.336770 -1.275318 -0.309379   \n",
       "10       -0.048964 -0.350825  0.030792  0.134033 -0.561954  0.129264   \n",
       "140      -0.106614 -0.304236  0.107357  0.393789 -0.353353  0.011052   \n",
       "141      -0.136854 -0.179497  0.151896 -0.140548 -0.452160  0.139479   \n",
       "\n",
       "              3967  labels_encoded  \n",
       "track_id                            \n",
       "2        -0.309881               3  \n",
       "5        -0.221681               3  \n",
       "10        0.175977               6  \n",
       "140      -0.156305               2  \n",
       "141       0.198652               2  \n",
       "\n",
       "[5 rows x 3969 columns]"
      ]
     },
     "execution_count": 20,
     "metadata": {},
     "output_type": "execute_result"
    }
   ],
   "source": [
    "data_df = embed_df\n",
    "data_df['labels_encoded'] = small['labels_encoded']\n",
    "data_df.head()"
   ]
  },
  {
   "cell_type": "code",
   "execution_count": 21,
   "id": "8779772b",
   "metadata": {},
   "outputs": [
    {
     "data": {
      "text/plain": [
       "(6394, 800, 800)"
      ]
     },
     "execution_count": 21,
     "metadata": {},
     "output_type": "execute_result"
    }
   ],
   "source": [
    "# train, validation, test split for embeds\n",
    "train_df = data_df[data_df.index.isin(train)]\n",
    "val_df = data_df[data_df.index.isin(val)]\n",
    "test_df = data_df[data_df.index.isin(test)]\n",
    "\n",
    "train_df.shape[0], val_df.shape[0], test_df.shape[0]"
   ]
  },
  {
   "cell_type": "code",
   "execution_count": 22,
   "id": "78ed961b",
   "metadata": {},
   "outputs": [],
   "source": [
    "DATA_COLS = [col for col in train_df.columns if type(col) == int]\n",
    "LABEL_COLS = [col for col in train_df.columns if type(col) != int]"
   ]
  },
  {
   "cell_type": "code",
   "execution_count": 23,
   "id": "f4751caf",
   "metadata": {},
   "outputs": [],
   "source": [
    "X_train = train_df[DATA_COLS].values\n",
    "y_train = train_df['labels_encoded'].values"
   ]
  },
  {
   "cell_type": "code",
   "execution_count": 26,
   "id": "4d851484",
   "metadata": {},
   "outputs": [],
   "source": [
    "scaler = StandardScaler()\n",
    "X_train_scaled = scaler.fit_transform(X_train)"
   ]
  },
  {
   "cell_type": "code",
   "execution_count": 27,
   "id": "86f2c1c5",
   "metadata": {},
   "outputs": [],
   "source": [
    "# run PCA with 128 principal components\n",
    "pca = PCA(n_components=128)\n",
    "X_pca = pca.fit_transform(X_train_scaled)"
   ]
  },
  {
   "cell_type": "code",
   "execution_count": 28,
   "id": "5f72e097",
   "metadata": {},
   "outputs": [],
   "source": [
    "X_test = test_df[DATA_COLS].values\n",
    "y_test = test_df['labels_encoded'].values"
   ]
  },
  {
   "cell_type": "code",
   "execution_count": 29,
   "id": "58dfc979",
   "metadata": {},
   "outputs": [],
   "source": [
    "X_test_pca = pca.transform(scaler.transform(X_test))"
   ]
  },
  {
   "attachments": {},
   "cell_type": "markdown",
   "id": "aff5587a",
   "metadata": {},
   "source": [
    "# Then now we can finally run traditional ML algorithms on the embeds. We do this with PCA and without."
   ]
  },
  {
   "attachments": {},
   "cell_type": "markdown",
   "id": "5c591aa2",
   "metadata": {},
   "source": [
    "### SVM RBF"
   ]
  },
  {
   "cell_type": "code",
   "execution_count": 30,
   "id": "a09a6203",
   "metadata": {},
   "outputs": [
    {
     "data": {
      "text/html": [
       "<style>#sk-container-id-1 {color: black;background-color: white;}#sk-container-id-1 pre{padding: 0;}#sk-container-id-1 div.sk-toggleable {background-color: white;}#sk-container-id-1 label.sk-toggleable__label {cursor: pointer;display: block;width: 100%;margin-bottom: 0;padding: 0.3em;box-sizing: border-box;text-align: center;}#sk-container-id-1 label.sk-toggleable__label-arrow:before {content: \"▸\";float: left;margin-right: 0.25em;color: #696969;}#sk-container-id-1 label.sk-toggleable__label-arrow:hover:before {color: black;}#sk-container-id-1 div.sk-estimator:hover label.sk-toggleable__label-arrow:before {color: black;}#sk-container-id-1 div.sk-toggleable__content {max-height: 0;max-width: 0;overflow: hidden;text-align: left;background-color: #f0f8ff;}#sk-container-id-1 div.sk-toggleable__content pre {margin: 0.2em;color: black;border-radius: 0.25em;background-color: #f0f8ff;}#sk-container-id-1 input.sk-toggleable__control:checked~div.sk-toggleable__content {max-height: 200px;max-width: 100%;overflow: auto;}#sk-container-id-1 input.sk-toggleable__control:checked~label.sk-toggleable__label-arrow:before {content: \"▾\";}#sk-container-id-1 div.sk-estimator input.sk-toggleable__control:checked~label.sk-toggleable__label {background-color: #d4ebff;}#sk-container-id-1 div.sk-label input.sk-toggleable__control:checked~label.sk-toggleable__label {background-color: #d4ebff;}#sk-container-id-1 input.sk-hidden--visually {border: 0;clip: rect(1px 1px 1px 1px);clip: rect(1px, 1px, 1px, 1px);height: 1px;margin: -1px;overflow: hidden;padding: 0;position: absolute;width: 1px;}#sk-container-id-1 div.sk-estimator {font-family: monospace;background-color: #f0f8ff;border: 1px dotted black;border-radius: 0.25em;box-sizing: border-box;margin-bottom: 0.5em;}#sk-container-id-1 div.sk-estimator:hover {background-color: #d4ebff;}#sk-container-id-1 div.sk-parallel-item::after {content: \"\";width: 100%;border-bottom: 1px solid gray;flex-grow: 1;}#sk-container-id-1 div.sk-label:hover label.sk-toggleable__label {background-color: #d4ebff;}#sk-container-id-1 div.sk-serial::before {content: \"\";position: absolute;border-left: 1px solid gray;box-sizing: border-box;top: 0;bottom: 0;left: 50%;z-index: 0;}#sk-container-id-1 div.sk-serial {display: flex;flex-direction: column;align-items: center;background-color: white;padding-right: 0.2em;padding-left: 0.2em;position: relative;}#sk-container-id-1 div.sk-item {position: relative;z-index: 1;}#sk-container-id-1 div.sk-parallel {display: flex;align-items: stretch;justify-content: center;background-color: white;position: relative;}#sk-container-id-1 div.sk-item::before, #sk-container-id-1 div.sk-parallel-item::before {content: \"\";position: absolute;border-left: 1px solid gray;box-sizing: border-box;top: 0;bottom: 0;left: 50%;z-index: -1;}#sk-container-id-1 div.sk-parallel-item {display: flex;flex-direction: column;z-index: 1;position: relative;background-color: white;}#sk-container-id-1 div.sk-parallel-item:first-child::after {align-self: flex-end;width: 50%;}#sk-container-id-1 div.sk-parallel-item:last-child::after {align-self: flex-start;width: 50%;}#sk-container-id-1 div.sk-parallel-item:only-child::after {width: 0;}#sk-container-id-1 div.sk-dashed-wrapped {border: 1px dashed gray;margin: 0 0.4em 0.5em 0.4em;box-sizing: border-box;padding-bottom: 0.4em;background-color: white;}#sk-container-id-1 div.sk-label label {font-family: monospace;font-weight: bold;display: inline-block;line-height: 1.2em;}#sk-container-id-1 div.sk-label-container {text-align: center;}#sk-container-id-1 div.sk-container {/* jupyter's `normalize.less` sets `[hidden] { display: none; }` but bootstrap.min.css set `[hidden] { display: none !important; }` so we also need the `!important` here to be able to override the default hidden behavior on the sphinx rendered scikit-learn.org. See: https://github.com/scikit-learn/scikit-learn/issues/21755 */display: inline-block !important;position: relative;}#sk-container-id-1 div.sk-text-repr-fallback {display: none;}</style><div id=\"sk-container-id-1\" class=\"sk-top-container\"><div class=\"sk-text-repr-fallback\"><pre>SVC(C=1)</pre><b>In a Jupyter environment, please rerun this cell to show the HTML representation or trust the notebook. <br />On GitHub, the HTML representation is unable to render, please try loading this page with nbviewer.org.</b></div><div class=\"sk-container\" hidden><div class=\"sk-item\"><div class=\"sk-estimator sk-toggleable\"><input class=\"sk-toggleable__control sk-hidden--visually\" id=\"sk-estimator-id-1\" type=\"checkbox\" checked><label for=\"sk-estimator-id-1\" class=\"sk-toggleable__label sk-toggleable__label-arrow\">SVC</label><div class=\"sk-toggleable__content\"><pre>SVC(C=1)</pre></div></div></div></div></div>"
      ],
      "text/plain": [
       "SVC(C=1)"
      ]
     },
     "execution_count": 30,
     "metadata": {},
     "output_type": "execute_result"
    }
   ],
   "source": [
    "clf = SVC(C=1, kernel='rbf', gamma='scale')\n",
    "clf.fit(X_pca, y_train)"
   ]
  },
  {
   "cell_type": "code",
   "execution_count": 31,
   "id": "35b7b4b4",
   "metadata": {},
   "outputs": [
    {
     "data": {
      "text/plain": [
       "0.57"
      ]
     },
     "execution_count": 31,
     "metadata": {},
     "output_type": "execute_result"
    }
   ],
   "source": [
    "rbf_svc_accuracy_pca = accuracy_score(y_test, clf.predict(X_test_pca))\n",
    "rbf_svc_accuracy_pca"
   ]
  },
  {
   "cell_type": "code",
   "execution_count": 32,
   "id": "736d6f5a",
   "metadata": {},
   "outputs": [
    {
     "data": {
      "text/html": [
       "<style>#sk-container-id-2 {color: black;background-color: white;}#sk-container-id-2 pre{padding: 0;}#sk-container-id-2 div.sk-toggleable {background-color: white;}#sk-container-id-2 label.sk-toggleable__label {cursor: pointer;display: block;width: 100%;margin-bottom: 0;padding: 0.3em;box-sizing: border-box;text-align: center;}#sk-container-id-2 label.sk-toggleable__label-arrow:before {content: \"▸\";float: left;margin-right: 0.25em;color: #696969;}#sk-container-id-2 label.sk-toggleable__label-arrow:hover:before {color: black;}#sk-container-id-2 div.sk-estimator:hover label.sk-toggleable__label-arrow:before {color: black;}#sk-container-id-2 div.sk-toggleable__content {max-height: 0;max-width: 0;overflow: hidden;text-align: left;background-color: #f0f8ff;}#sk-container-id-2 div.sk-toggleable__content pre {margin: 0.2em;color: black;border-radius: 0.25em;background-color: #f0f8ff;}#sk-container-id-2 input.sk-toggleable__control:checked~div.sk-toggleable__content {max-height: 200px;max-width: 100%;overflow: auto;}#sk-container-id-2 input.sk-toggleable__control:checked~label.sk-toggleable__label-arrow:before {content: \"▾\";}#sk-container-id-2 div.sk-estimator input.sk-toggleable__control:checked~label.sk-toggleable__label {background-color: #d4ebff;}#sk-container-id-2 div.sk-label input.sk-toggleable__control:checked~label.sk-toggleable__label {background-color: #d4ebff;}#sk-container-id-2 input.sk-hidden--visually {border: 0;clip: rect(1px 1px 1px 1px);clip: rect(1px, 1px, 1px, 1px);height: 1px;margin: -1px;overflow: hidden;padding: 0;position: absolute;width: 1px;}#sk-container-id-2 div.sk-estimator {font-family: monospace;background-color: #f0f8ff;border: 1px dotted black;border-radius: 0.25em;box-sizing: border-box;margin-bottom: 0.5em;}#sk-container-id-2 div.sk-estimator:hover {background-color: #d4ebff;}#sk-container-id-2 div.sk-parallel-item::after {content: \"\";width: 100%;border-bottom: 1px solid gray;flex-grow: 1;}#sk-container-id-2 div.sk-label:hover label.sk-toggleable__label {background-color: #d4ebff;}#sk-container-id-2 div.sk-serial::before {content: \"\";position: absolute;border-left: 1px solid gray;box-sizing: border-box;top: 0;bottom: 0;left: 50%;z-index: 0;}#sk-container-id-2 div.sk-serial {display: flex;flex-direction: column;align-items: center;background-color: white;padding-right: 0.2em;padding-left: 0.2em;position: relative;}#sk-container-id-2 div.sk-item {position: relative;z-index: 1;}#sk-container-id-2 div.sk-parallel {display: flex;align-items: stretch;justify-content: center;background-color: white;position: relative;}#sk-container-id-2 div.sk-item::before, #sk-container-id-2 div.sk-parallel-item::before {content: \"\";position: absolute;border-left: 1px solid gray;box-sizing: border-box;top: 0;bottom: 0;left: 50%;z-index: -1;}#sk-container-id-2 div.sk-parallel-item {display: flex;flex-direction: column;z-index: 1;position: relative;background-color: white;}#sk-container-id-2 div.sk-parallel-item:first-child::after {align-self: flex-end;width: 50%;}#sk-container-id-2 div.sk-parallel-item:last-child::after {align-self: flex-start;width: 50%;}#sk-container-id-2 div.sk-parallel-item:only-child::after {width: 0;}#sk-container-id-2 div.sk-dashed-wrapped {border: 1px dashed gray;margin: 0 0.4em 0.5em 0.4em;box-sizing: border-box;padding-bottom: 0.4em;background-color: white;}#sk-container-id-2 div.sk-label label {font-family: monospace;font-weight: bold;display: inline-block;line-height: 1.2em;}#sk-container-id-2 div.sk-label-container {text-align: center;}#sk-container-id-2 div.sk-container {/* jupyter's `normalize.less` sets `[hidden] { display: none; }` but bootstrap.min.css set `[hidden] { display: none !important; }` so we also need the `!important` here to be able to override the default hidden behavior on the sphinx rendered scikit-learn.org. See: https://github.com/scikit-learn/scikit-learn/issues/21755 */display: inline-block !important;position: relative;}#sk-container-id-2 div.sk-text-repr-fallback {display: none;}</style><div id=\"sk-container-id-2\" class=\"sk-top-container\"><div class=\"sk-text-repr-fallback\"><pre>SVC(C=1)</pre><b>In a Jupyter environment, please rerun this cell to show the HTML representation or trust the notebook. <br />On GitHub, the HTML representation is unable to render, please try loading this page with nbviewer.org.</b></div><div class=\"sk-container\" hidden><div class=\"sk-item\"><div class=\"sk-estimator sk-toggleable\"><input class=\"sk-toggleable__control sk-hidden--visually\" id=\"sk-estimator-id-2\" type=\"checkbox\" checked><label for=\"sk-estimator-id-2\" class=\"sk-toggleable__label sk-toggleable__label-arrow\">SVC</label><div class=\"sk-toggleable__content\"><pre>SVC(C=1)</pre></div></div></div></div></div>"
      ],
      "text/plain": [
       "SVC(C=1)"
      ]
     },
     "execution_count": 32,
     "metadata": {},
     "output_type": "execute_result"
    }
   ],
   "source": [
    "clf = SVC(C=1, kernel='rbf', gamma='scale')\n",
    "clf.fit(X_train, y_train)"
   ]
  },
  {
   "cell_type": "code",
   "execution_count": 33,
   "id": "dcc5a7c9",
   "metadata": {},
   "outputs": [
    {
     "data": {
      "text/plain": [
       "0.5475"
      ]
     },
     "execution_count": 33,
     "metadata": {},
     "output_type": "execute_result"
    }
   ],
   "source": [
    "rbf_svc_accuracy = accuracy_score(y_test, clf.predict(X_test))\n",
    "rbf_svc_accuracy"
   ]
  },
  {
   "attachments": {},
   "cell_type": "markdown",
   "id": "387e73d1",
   "metadata": {},
   "source": [
    "### Random Forest"
   ]
  },
  {
   "cell_type": "code",
   "execution_count": 34,
   "id": "df6e1834",
   "metadata": {},
   "outputs": [
    {
     "data": {
      "text/html": [
       "<style>#sk-container-id-3 {color: black;background-color: white;}#sk-container-id-3 pre{padding: 0;}#sk-container-id-3 div.sk-toggleable {background-color: white;}#sk-container-id-3 label.sk-toggleable__label {cursor: pointer;display: block;width: 100%;margin-bottom: 0;padding: 0.3em;box-sizing: border-box;text-align: center;}#sk-container-id-3 label.sk-toggleable__label-arrow:before {content: \"▸\";float: left;margin-right: 0.25em;color: #696969;}#sk-container-id-3 label.sk-toggleable__label-arrow:hover:before {color: black;}#sk-container-id-3 div.sk-estimator:hover label.sk-toggleable__label-arrow:before {color: black;}#sk-container-id-3 div.sk-toggleable__content {max-height: 0;max-width: 0;overflow: hidden;text-align: left;background-color: #f0f8ff;}#sk-container-id-3 div.sk-toggleable__content pre {margin: 0.2em;color: black;border-radius: 0.25em;background-color: #f0f8ff;}#sk-container-id-3 input.sk-toggleable__control:checked~div.sk-toggleable__content {max-height: 200px;max-width: 100%;overflow: auto;}#sk-container-id-3 input.sk-toggleable__control:checked~label.sk-toggleable__label-arrow:before {content: \"▾\";}#sk-container-id-3 div.sk-estimator input.sk-toggleable__control:checked~label.sk-toggleable__label {background-color: #d4ebff;}#sk-container-id-3 div.sk-label input.sk-toggleable__control:checked~label.sk-toggleable__label {background-color: #d4ebff;}#sk-container-id-3 input.sk-hidden--visually {border: 0;clip: rect(1px 1px 1px 1px);clip: rect(1px, 1px, 1px, 1px);height: 1px;margin: -1px;overflow: hidden;padding: 0;position: absolute;width: 1px;}#sk-container-id-3 div.sk-estimator {font-family: monospace;background-color: #f0f8ff;border: 1px dotted black;border-radius: 0.25em;box-sizing: border-box;margin-bottom: 0.5em;}#sk-container-id-3 div.sk-estimator:hover {background-color: #d4ebff;}#sk-container-id-3 div.sk-parallel-item::after {content: \"\";width: 100%;border-bottom: 1px solid gray;flex-grow: 1;}#sk-container-id-3 div.sk-label:hover label.sk-toggleable__label {background-color: #d4ebff;}#sk-container-id-3 div.sk-serial::before {content: \"\";position: absolute;border-left: 1px solid gray;box-sizing: border-box;top: 0;bottom: 0;left: 50%;z-index: 0;}#sk-container-id-3 div.sk-serial {display: flex;flex-direction: column;align-items: center;background-color: white;padding-right: 0.2em;padding-left: 0.2em;position: relative;}#sk-container-id-3 div.sk-item {position: relative;z-index: 1;}#sk-container-id-3 div.sk-parallel {display: flex;align-items: stretch;justify-content: center;background-color: white;position: relative;}#sk-container-id-3 div.sk-item::before, #sk-container-id-3 div.sk-parallel-item::before {content: \"\";position: absolute;border-left: 1px solid gray;box-sizing: border-box;top: 0;bottom: 0;left: 50%;z-index: -1;}#sk-container-id-3 div.sk-parallel-item {display: flex;flex-direction: column;z-index: 1;position: relative;background-color: white;}#sk-container-id-3 div.sk-parallel-item:first-child::after {align-self: flex-end;width: 50%;}#sk-container-id-3 div.sk-parallel-item:last-child::after {align-self: flex-start;width: 50%;}#sk-container-id-3 div.sk-parallel-item:only-child::after {width: 0;}#sk-container-id-3 div.sk-dashed-wrapped {border: 1px dashed gray;margin: 0 0.4em 0.5em 0.4em;box-sizing: border-box;padding-bottom: 0.4em;background-color: white;}#sk-container-id-3 div.sk-label label {font-family: monospace;font-weight: bold;display: inline-block;line-height: 1.2em;}#sk-container-id-3 div.sk-label-container {text-align: center;}#sk-container-id-3 div.sk-container {/* jupyter's `normalize.less` sets `[hidden] { display: none; }` but bootstrap.min.css set `[hidden] { display: none !important; }` so we also need the `!important` here to be able to override the default hidden behavior on the sphinx rendered scikit-learn.org. See: https://github.com/scikit-learn/scikit-learn/issues/21755 */display: inline-block !important;position: relative;}#sk-container-id-3 div.sk-text-repr-fallback {display: none;}</style><div id=\"sk-container-id-3\" class=\"sk-top-container\"><div class=\"sk-text-repr-fallback\"><pre>RandomForestClassifier()</pre><b>In a Jupyter environment, please rerun this cell to show the HTML representation or trust the notebook. <br />On GitHub, the HTML representation is unable to render, please try loading this page with nbviewer.org.</b></div><div class=\"sk-container\" hidden><div class=\"sk-item\"><div class=\"sk-estimator sk-toggleable\"><input class=\"sk-toggleable__control sk-hidden--visually\" id=\"sk-estimator-id-3\" type=\"checkbox\" checked><label for=\"sk-estimator-id-3\" class=\"sk-toggleable__label sk-toggleable__label-arrow\">RandomForestClassifier</label><div class=\"sk-toggleable__content\"><pre>RandomForestClassifier()</pre></div></div></div></div></div>"
      ],
      "text/plain": [
       "RandomForestClassifier()"
      ]
     },
     "execution_count": 34,
     "metadata": {},
     "output_type": "execute_result"
    }
   ],
   "source": [
    "clf = RandomForestClassifier()\n",
    "clf.fit(X_pca, y_train)"
   ]
  },
  {
   "cell_type": "code",
   "execution_count": 35,
   "id": "da8bb8d9",
   "metadata": {},
   "outputs": [
    {
     "data": {
      "text/plain": [
       "0.515"
      ]
     },
     "execution_count": 35,
     "metadata": {},
     "output_type": "execute_result"
    }
   ],
   "source": [
    "rf_accuracy_pca = accuracy_score(y_test, clf.predict(X_test_pca))\n",
    "rf_accuracy_pca"
   ]
  },
  {
   "cell_type": "code",
   "execution_count": 38,
   "id": "23ee3775",
   "metadata": {},
   "outputs": [
    {
     "data": {
      "text/html": [
       "<style>#sk-container-id-6 {color: black;background-color: white;}#sk-container-id-6 pre{padding: 0;}#sk-container-id-6 div.sk-toggleable {background-color: white;}#sk-container-id-6 label.sk-toggleable__label {cursor: pointer;display: block;width: 100%;margin-bottom: 0;padding: 0.3em;box-sizing: border-box;text-align: center;}#sk-container-id-6 label.sk-toggleable__label-arrow:before {content: \"▸\";float: left;margin-right: 0.25em;color: #696969;}#sk-container-id-6 label.sk-toggleable__label-arrow:hover:before {color: black;}#sk-container-id-6 div.sk-estimator:hover label.sk-toggleable__label-arrow:before {color: black;}#sk-container-id-6 div.sk-toggleable__content {max-height: 0;max-width: 0;overflow: hidden;text-align: left;background-color: #f0f8ff;}#sk-container-id-6 div.sk-toggleable__content pre {margin: 0.2em;color: black;border-radius: 0.25em;background-color: #f0f8ff;}#sk-container-id-6 input.sk-toggleable__control:checked~div.sk-toggleable__content {max-height: 200px;max-width: 100%;overflow: auto;}#sk-container-id-6 input.sk-toggleable__control:checked~label.sk-toggleable__label-arrow:before {content: \"▾\";}#sk-container-id-6 div.sk-estimator input.sk-toggleable__control:checked~label.sk-toggleable__label {background-color: #d4ebff;}#sk-container-id-6 div.sk-label input.sk-toggleable__control:checked~label.sk-toggleable__label {background-color: #d4ebff;}#sk-container-id-6 input.sk-hidden--visually {border: 0;clip: rect(1px 1px 1px 1px);clip: rect(1px, 1px, 1px, 1px);height: 1px;margin: -1px;overflow: hidden;padding: 0;position: absolute;width: 1px;}#sk-container-id-6 div.sk-estimator {font-family: monospace;background-color: #f0f8ff;border: 1px dotted black;border-radius: 0.25em;box-sizing: border-box;margin-bottom: 0.5em;}#sk-container-id-6 div.sk-estimator:hover {background-color: #d4ebff;}#sk-container-id-6 div.sk-parallel-item::after {content: \"\";width: 100%;border-bottom: 1px solid gray;flex-grow: 1;}#sk-container-id-6 div.sk-label:hover label.sk-toggleable__label {background-color: #d4ebff;}#sk-container-id-6 div.sk-serial::before {content: \"\";position: absolute;border-left: 1px solid gray;box-sizing: border-box;top: 0;bottom: 0;left: 50%;z-index: 0;}#sk-container-id-6 div.sk-serial {display: flex;flex-direction: column;align-items: center;background-color: white;padding-right: 0.2em;padding-left: 0.2em;position: relative;}#sk-container-id-6 div.sk-item {position: relative;z-index: 1;}#sk-container-id-6 div.sk-parallel {display: flex;align-items: stretch;justify-content: center;background-color: white;position: relative;}#sk-container-id-6 div.sk-item::before, #sk-container-id-6 div.sk-parallel-item::before {content: \"\";position: absolute;border-left: 1px solid gray;box-sizing: border-box;top: 0;bottom: 0;left: 50%;z-index: -1;}#sk-container-id-6 div.sk-parallel-item {display: flex;flex-direction: column;z-index: 1;position: relative;background-color: white;}#sk-container-id-6 div.sk-parallel-item:first-child::after {align-self: flex-end;width: 50%;}#sk-container-id-6 div.sk-parallel-item:last-child::after {align-self: flex-start;width: 50%;}#sk-container-id-6 div.sk-parallel-item:only-child::after {width: 0;}#sk-container-id-6 div.sk-dashed-wrapped {border: 1px dashed gray;margin: 0 0.4em 0.5em 0.4em;box-sizing: border-box;padding-bottom: 0.4em;background-color: white;}#sk-container-id-6 div.sk-label label {font-family: monospace;font-weight: bold;display: inline-block;line-height: 1.2em;}#sk-container-id-6 div.sk-label-container {text-align: center;}#sk-container-id-6 div.sk-container {/* jupyter's `normalize.less` sets `[hidden] { display: none; }` but bootstrap.min.css set `[hidden] { display: none !important; }` so we also need the `!important` here to be able to override the default hidden behavior on the sphinx rendered scikit-learn.org. See: https://github.com/scikit-learn/scikit-learn/issues/21755 */display: inline-block !important;position: relative;}#sk-container-id-6 div.sk-text-repr-fallback {display: none;}</style><div id=\"sk-container-id-6\" class=\"sk-top-container\"><div class=\"sk-text-repr-fallback\"><pre>RandomForestClassifier()</pre><b>In a Jupyter environment, please rerun this cell to show the HTML representation or trust the notebook. <br />On GitHub, the HTML representation is unable to render, please try loading this page with nbviewer.org.</b></div><div class=\"sk-container\" hidden><div class=\"sk-item\"><div class=\"sk-estimator sk-toggleable\"><input class=\"sk-toggleable__control sk-hidden--visually\" id=\"sk-estimator-id-6\" type=\"checkbox\" checked><label for=\"sk-estimator-id-6\" class=\"sk-toggleable__label sk-toggleable__label-arrow\">RandomForestClassifier</label><div class=\"sk-toggleable__content\"><pre>RandomForestClassifier()</pre></div></div></div></div></div>"
      ],
      "text/plain": [
       "RandomForestClassifier()"
      ]
     },
     "execution_count": 38,
     "metadata": {},
     "output_type": "execute_result"
    }
   ],
   "source": [
    "clf = RandomForestClassifier()\n",
    "clf.fit(X_train, y_train)"
   ]
  },
  {
   "cell_type": "code",
   "execution_count": 45,
   "id": "207f19ed",
   "metadata": {},
   "outputs": [
    {
     "data": {
      "text/plain": [
       "0.50625"
      ]
     },
     "execution_count": 45,
     "metadata": {},
     "output_type": "execute_result"
    }
   ],
   "source": [
    "rf_accuracy = accuracy_score(y_test, clf.predict(X_test))\n",
    "rf_accuracy"
   ]
  },
  {
   "attachments": {},
   "cell_type": "markdown",
   "id": "43f8dfab",
   "metadata": {},
   "source": [
    "## XGBoost"
   ]
  },
  {
   "cell_type": "code",
   "execution_count": 39,
   "id": "9025651c",
   "metadata": {},
   "outputs": [],
   "source": [
    "# Create classification matrices\n",
    "dtrain_clf_pca = xgb.DMatrix(X_pca, y_train)\n",
    "dtest_clf_pca = xgb.DMatrix(X_test_pca, y_test)"
   ]
  },
  {
   "cell_type": "code",
   "execution_count": 40,
   "id": "5931e94f",
   "metadata": {},
   "outputs": [],
   "source": [
    "params = {\"objective\": \"multi:softmax\", \"num_class\": 8, \"eval_metric\": \"mlogloss\"}"
   ]
  },
  {
   "cell_type": "code",
   "execution_count": 41,
   "id": "5fa58541",
   "metadata": {},
   "outputs": [],
   "source": [
    "xgb_model_pca = xgb.train(params=params, dtrain=dtrain_clf_pca)"
   ]
  },
  {
   "cell_type": "code",
   "execution_count": 42,
   "id": "6fb81ec4",
   "metadata": {},
   "outputs": [],
   "source": [
    "y_pred = xgb_model_pca.predict(dtest_clf_pca)"
   ]
  },
  {
   "cell_type": "code",
   "execution_count": 43,
   "id": "2ace3590",
   "metadata": {},
   "outputs": [
    {
     "data": {
      "text/plain": [
       "0.5325"
      ]
     },
     "execution_count": 43,
     "metadata": {},
     "output_type": "execute_result"
    }
   ],
   "source": [
    "xgb_accuracy_pca = accuracy_score(y_test, y_pred)\n",
    "xgb_accuracy_pca"
   ]
  },
  {
   "cell_type": "code",
   "execution_count": 44,
   "id": "c1f06871",
   "metadata": {},
   "outputs": [],
   "source": [
    "dtrain_clf = xgb.DMatrix(X_train, y_train)\n",
    "dtest_clf = xgb.DMatrix(X_test, y_test)"
   ]
  },
  {
   "cell_type": "code",
   "execution_count": 45,
   "id": "6640cc2d",
   "metadata": {},
   "outputs": [],
   "source": [
    "xgb_model = xgb.train(params=params, dtrain=dtrain_clf)"
   ]
  },
  {
   "cell_type": "code",
   "execution_count": 46,
   "id": "9fe49550",
   "metadata": {},
   "outputs": [],
   "source": [
    "y_pred = xgb_model.predict(dtest_clf)"
   ]
  },
  {
   "cell_type": "code",
   "execution_count": 47,
   "id": "7499d455",
   "metadata": {},
   "outputs": [
    {
     "data": {
      "text/plain": [
       "0.50625"
      ]
     },
     "execution_count": 47,
     "metadata": {},
     "output_type": "execute_result"
    }
   ],
   "source": [
    "xgb_accuracy = accuracy_score(y_test, y_pred)\n",
    "xgb_accuracy"
   ]
  },
  {
   "attachments": {},
   "cell_type": "markdown",
   "id": "38e36923",
   "metadata": {},
   "source": [
    "### Logistic Regression"
   ]
  },
  {
   "cell_type": "code",
   "execution_count": 51,
   "id": "bb984fcb",
   "metadata": {},
   "outputs": [],
   "source": [
    "logreg = LogisticRegression()"
   ]
  },
  {
   "cell_type": "code",
   "execution_count": 52,
   "id": "4122b40f",
   "metadata": {},
   "outputs": [
    {
     "name": "stderr",
     "output_type": "stream",
     "text": [
      "c:\\Users\\SKPC\\anaconda3\\envs\\stat-254-37\\lib\\site-packages\\sklearn\\linear_model\\_logistic.py:458: ConvergenceWarning: lbfgs failed to converge (status=1):\n",
      "STOP: TOTAL NO. of ITERATIONS REACHED LIMIT.\n",
      "\n",
      "Increase the number of iterations (max_iter) or scale the data as shown in:\n",
      "    https://scikit-learn.org/stable/modules/preprocessing.html\n",
      "Please also refer to the documentation for alternative solver options:\n",
      "    https://scikit-learn.org/stable/modules/linear_model.html#logistic-regression\n",
      "  n_iter_i = _check_optimize_result(\n"
     ]
    },
    {
     "data": {
      "text/html": [
       "<style>#sk-container-id-8 {color: black;background-color: white;}#sk-container-id-8 pre{padding: 0;}#sk-container-id-8 div.sk-toggleable {background-color: white;}#sk-container-id-8 label.sk-toggleable__label {cursor: pointer;display: block;width: 100%;margin-bottom: 0;padding: 0.3em;box-sizing: border-box;text-align: center;}#sk-container-id-8 label.sk-toggleable__label-arrow:before {content: \"▸\";float: left;margin-right: 0.25em;color: #696969;}#sk-container-id-8 label.sk-toggleable__label-arrow:hover:before {color: black;}#sk-container-id-8 div.sk-estimator:hover label.sk-toggleable__label-arrow:before {color: black;}#sk-container-id-8 div.sk-toggleable__content {max-height: 0;max-width: 0;overflow: hidden;text-align: left;background-color: #f0f8ff;}#sk-container-id-8 div.sk-toggleable__content pre {margin: 0.2em;color: black;border-radius: 0.25em;background-color: #f0f8ff;}#sk-container-id-8 input.sk-toggleable__control:checked~div.sk-toggleable__content {max-height: 200px;max-width: 100%;overflow: auto;}#sk-container-id-8 input.sk-toggleable__control:checked~label.sk-toggleable__label-arrow:before {content: \"▾\";}#sk-container-id-8 div.sk-estimator input.sk-toggleable__control:checked~label.sk-toggleable__label {background-color: #d4ebff;}#sk-container-id-8 div.sk-label input.sk-toggleable__control:checked~label.sk-toggleable__label {background-color: #d4ebff;}#sk-container-id-8 input.sk-hidden--visually {border: 0;clip: rect(1px 1px 1px 1px);clip: rect(1px, 1px, 1px, 1px);height: 1px;margin: -1px;overflow: hidden;padding: 0;position: absolute;width: 1px;}#sk-container-id-8 div.sk-estimator {font-family: monospace;background-color: #f0f8ff;border: 1px dotted black;border-radius: 0.25em;box-sizing: border-box;margin-bottom: 0.5em;}#sk-container-id-8 div.sk-estimator:hover {background-color: #d4ebff;}#sk-container-id-8 div.sk-parallel-item::after {content: \"\";width: 100%;border-bottom: 1px solid gray;flex-grow: 1;}#sk-container-id-8 div.sk-label:hover label.sk-toggleable__label {background-color: #d4ebff;}#sk-container-id-8 div.sk-serial::before {content: \"\";position: absolute;border-left: 1px solid gray;box-sizing: border-box;top: 0;bottom: 0;left: 50%;z-index: 0;}#sk-container-id-8 div.sk-serial {display: flex;flex-direction: column;align-items: center;background-color: white;padding-right: 0.2em;padding-left: 0.2em;position: relative;}#sk-container-id-8 div.sk-item {position: relative;z-index: 1;}#sk-container-id-8 div.sk-parallel {display: flex;align-items: stretch;justify-content: center;background-color: white;position: relative;}#sk-container-id-8 div.sk-item::before, #sk-container-id-8 div.sk-parallel-item::before {content: \"\";position: absolute;border-left: 1px solid gray;box-sizing: border-box;top: 0;bottom: 0;left: 50%;z-index: -1;}#sk-container-id-8 div.sk-parallel-item {display: flex;flex-direction: column;z-index: 1;position: relative;background-color: white;}#sk-container-id-8 div.sk-parallel-item:first-child::after {align-self: flex-end;width: 50%;}#sk-container-id-8 div.sk-parallel-item:last-child::after {align-self: flex-start;width: 50%;}#sk-container-id-8 div.sk-parallel-item:only-child::after {width: 0;}#sk-container-id-8 div.sk-dashed-wrapped {border: 1px dashed gray;margin: 0 0.4em 0.5em 0.4em;box-sizing: border-box;padding-bottom: 0.4em;background-color: white;}#sk-container-id-8 div.sk-label label {font-family: monospace;font-weight: bold;display: inline-block;line-height: 1.2em;}#sk-container-id-8 div.sk-label-container {text-align: center;}#sk-container-id-8 div.sk-container {/* jupyter's `normalize.less` sets `[hidden] { display: none; }` but bootstrap.min.css set `[hidden] { display: none !important; }` so we also need the `!important` here to be able to override the default hidden behavior on the sphinx rendered scikit-learn.org. See: https://github.com/scikit-learn/scikit-learn/issues/21755 */display: inline-block !important;position: relative;}#sk-container-id-8 div.sk-text-repr-fallback {display: none;}</style><div id=\"sk-container-id-8\" class=\"sk-top-container\"><div class=\"sk-text-repr-fallback\"><pre>LogisticRegression()</pre><b>In a Jupyter environment, please rerun this cell to show the HTML representation or trust the notebook. <br />On GitHub, the HTML representation is unable to render, please try loading this page with nbviewer.org.</b></div><div class=\"sk-container\" hidden><div class=\"sk-item\"><div class=\"sk-estimator sk-toggleable\"><input class=\"sk-toggleable__control sk-hidden--visually\" id=\"sk-estimator-id-8\" type=\"checkbox\" checked><label for=\"sk-estimator-id-8\" class=\"sk-toggleable__label sk-toggleable__label-arrow\">LogisticRegression</label><div class=\"sk-toggleable__content\"><pre>LogisticRegression()</pre></div></div></div></div></div>"
      ],
      "text/plain": [
       "LogisticRegression()"
      ]
     },
     "execution_count": 52,
     "metadata": {},
     "output_type": "execute_result"
    }
   ],
   "source": [
    "logreg.fit(X_pca, y_train)"
   ]
  },
  {
   "cell_type": "code",
   "execution_count": 50,
   "id": "983ac25b",
   "metadata": {},
   "outputs": [],
   "source": [
    "y_pred = logreg.predict(X_test_pca)"
   ]
  },
  {
   "cell_type": "code",
   "execution_count": 53,
   "id": "9ecb66b4",
   "metadata": {},
   "outputs": [
    {
     "data": {
      "text/plain": [
       "0.54125"
      ]
     },
     "execution_count": 53,
     "metadata": {},
     "output_type": "execute_result"
    }
   ],
   "source": [
    "logreg_accuracy_pca = accuracy_score(y_test, y_pred)\n",
    "logreg_accuracy_pca"
   ]
  },
  {
   "cell_type": "code",
   "execution_count": 54,
   "id": "9a3e77b6",
   "metadata": {},
   "outputs": [
    {
     "name": "stderr",
     "output_type": "stream",
     "text": [
      "c:\\Users\\SKPC\\anaconda3\\envs\\stat-254-37\\lib\\site-packages\\sklearn\\linear_model\\_logistic.py:458: ConvergenceWarning: lbfgs failed to converge (status=1):\n",
      "STOP: TOTAL NO. of ITERATIONS REACHED LIMIT.\n",
      "\n",
      "Increase the number of iterations (max_iter) or scale the data as shown in:\n",
      "    https://scikit-learn.org/stable/modules/preprocessing.html\n",
      "Please also refer to the documentation for alternative solver options:\n",
      "    https://scikit-learn.org/stable/modules/linear_model.html#logistic-regression\n",
      "  n_iter_i = _check_optimize_result(\n"
     ]
    },
    {
     "data": {
      "text/html": [
       "<style>#sk-container-id-9 {color: black;background-color: white;}#sk-container-id-9 pre{padding: 0;}#sk-container-id-9 div.sk-toggleable {background-color: white;}#sk-container-id-9 label.sk-toggleable__label {cursor: pointer;display: block;width: 100%;margin-bottom: 0;padding: 0.3em;box-sizing: border-box;text-align: center;}#sk-container-id-9 label.sk-toggleable__label-arrow:before {content: \"▸\";float: left;margin-right: 0.25em;color: #696969;}#sk-container-id-9 label.sk-toggleable__label-arrow:hover:before {color: black;}#sk-container-id-9 div.sk-estimator:hover label.sk-toggleable__label-arrow:before {color: black;}#sk-container-id-9 div.sk-toggleable__content {max-height: 0;max-width: 0;overflow: hidden;text-align: left;background-color: #f0f8ff;}#sk-container-id-9 div.sk-toggleable__content pre {margin: 0.2em;color: black;border-radius: 0.25em;background-color: #f0f8ff;}#sk-container-id-9 input.sk-toggleable__control:checked~div.sk-toggleable__content {max-height: 200px;max-width: 100%;overflow: auto;}#sk-container-id-9 input.sk-toggleable__control:checked~label.sk-toggleable__label-arrow:before {content: \"▾\";}#sk-container-id-9 div.sk-estimator input.sk-toggleable__control:checked~label.sk-toggleable__label {background-color: #d4ebff;}#sk-container-id-9 div.sk-label input.sk-toggleable__control:checked~label.sk-toggleable__label {background-color: #d4ebff;}#sk-container-id-9 input.sk-hidden--visually {border: 0;clip: rect(1px 1px 1px 1px);clip: rect(1px, 1px, 1px, 1px);height: 1px;margin: -1px;overflow: hidden;padding: 0;position: absolute;width: 1px;}#sk-container-id-9 div.sk-estimator {font-family: monospace;background-color: #f0f8ff;border: 1px dotted black;border-radius: 0.25em;box-sizing: border-box;margin-bottom: 0.5em;}#sk-container-id-9 div.sk-estimator:hover {background-color: #d4ebff;}#sk-container-id-9 div.sk-parallel-item::after {content: \"\";width: 100%;border-bottom: 1px solid gray;flex-grow: 1;}#sk-container-id-9 div.sk-label:hover label.sk-toggleable__label {background-color: #d4ebff;}#sk-container-id-9 div.sk-serial::before {content: \"\";position: absolute;border-left: 1px solid gray;box-sizing: border-box;top: 0;bottom: 0;left: 50%;z-index: 0;}#sk-container-id-9 div.sk-serial {display: flex;flex-direction: column;align-items: center;background-color: white;padding-right: 0.2em;padding-left: 0.2em;position: relative;}#sk-container-id-9 div.sk-item {position: relative;z-index: 1;}#sk-container-id-9 div.sk-parallel {display: flex;align-items: stretch;justify-content: center;background-color: white;position: relative;}#sk-container-id-9 div.sk-item::before, #sk-container-id-9 div.sk-parallel-item::before {content: \"\";position: absolute;border-left: 1px solid gray;box-sizing: border-box;top: 0;bottom: 0;left: 50%;z-index: -1;}#sk-container-id-9 div.sk-parallel-item {display: flex;flex-direction: column;z-index: 1;position: relative;background-color: white;}#sk-container-id-9 div.sk-parallel-item:first-child::after {align-self: flex-end;width: 50%;}#sk-container-id-9 div.sk-parallel-item:last-child::after {align-self: flex-start;width: 50%;}#sk-container-id-9 div.sk-parallel-item:only-child::after {width: 0;}#sk-container-id-9 div.sk-dashed-wrapped {border: 1px dashed gray;margin: 0 0.4em 0.5em 0.4em;box-sizing: border-box;padding-bottom: 0.4em;background-color: white;}#sk-container-id-9 div.sk-label label {font-family: monospace;font-weight: bold;display: inline-block;line-height: 1.2em;}#sk-container-id-9 div.sk-label-container {text-align: center;}#sk-container-id-9 div.sk-container {/* jupyter's `normalize.less` sets `[hidden] { display: none; }` but bootstrap.min.css set `[hidden] { display: none !important; }` so we also need the `!important` here to be able to override the default hidden behavior on the sphinx rendered scikit-learn.org. See: https://github.com/scikit-learn/scikit-learn/issues/21755 */display: inline-block !important;position: relative;}#sk-container-id-9 div.sk-text-repr-fallback {display: none;}</style><div id=\"sk-container-id-9\" class=\"sk-top-container\"><div class=\"sk-text-repr-fallback\"><pre>LogisticRegression()</pre><b>In a Jupyter environment, please rerun this cell to show the HTML representation or trust the notebook. <br />On GitHub, the HTML representation is unable to render, please try loading this page with nbviewer.org.</b></div><div class=\"sk-container\" hidden><div class=\"sk-item\"><div class=\"sk-estimator sk-toggleable\"><input class=\"sk-toggleable__control sk-hidden--visually\" id=\"sk-estimator-id-9\" type=\"checkbox\" checked><label for=\"sk-estimator-id-9\" class=\"sk-toggleable__label sk-toggleable__label-arrow\">LogisticRegression</label><div class=\"sk-toggleable__content\"><pre>LogisticRegression()</pre></div></div></div></div></div>"
      ],
      "text/plain": [
       "LogisticRegression()"
      ]
     },
     "execution_count": 54,
     "metadata": {},
     "output_type": "execute_result"
    }
   ],
   "source": [
    "logreg.fit(X_train, y_train)"
   ]
  },
  {
   "cell_type": "code",
   "execution_count": 55,
   "id": "3a19ba2d",
   "metadata": {},
   "outputs": [
    {
     "data": {
      "text/plain": [
       "0.47625"
      ]
     },
     "execution_count": 55,
     "metadata": {},
     "output_type": "execute_result"
    }
   ],
   "source": [
    "y_pred = logreg.predict(X_test)\n",
    "logreg_accuracy = accuracy_score(y_test, y_pred)\n",
    "logreg_accuracy"
   ]
  },
  {
   "attachments": {},
   "cell_type": "markdown",
   "id": "5ce746a2",
   "metadata": {},
   "source": [
    "# KNN"
   ]
  },
  {
   "cell_type": "code",
   "execution_count": 57,
   "id": "58002035",
   "metadata": {},
   "outputs": [
    {
     "data": {
      "text/plain": [
       "0.5025"
      ]
     },
     "execution_count": 57,
     "metadata": {},
     "output_type": "execute_result"
    }
   ],
   "source": [
    "knn = KNeighborsClassifier()\n",
    "knn.fit(X_pca, y_train)\n",
    "y_pred = knn.predict(X_test_pca)\n",
    "knn_accuracy_pca = accuracy_score(y_test, y_pred)\n",
    "knn_accuracy_pca"
   ]
  },
  {
   "cell_type": "code",
   "execution_count": 58,
   "id": "15ab0d1d",
   "metadata": {},
   "outputs": [
    {
     "data": {
      "text/plain": [
       "0.5"
      ]
     },
     "execution_count": 58,
     "metadata": {},
     "output_type": "execute_result"
    }
   ],
   "source": [
    "knn.fit(X_train, y_train)\n",
    "y_pred = knn.predict(X_test)\n",
    "knn_accuracy = accuracy_score(y_test, y_pred)\n",
    "knn_accuracy"
   ]
  },
  {
   "attachments": {},
   "cell_type": "markdown",
   "id": "870d8412",
   "metadata": {},
   "source": [
    "# SVC Poly"
   ]
  },
  {
   "cell_type": "code",
   "execution_count": 59,
   "id": "711c4dc2",
   "metadata": {},
   "outputs": [
    {
     "data": {
      "text/plain": [
       "0.54625"
      ]
     },
     "execution_count": 59,
     "metadata": {},
     "output_type": "execute_result"
    }
   ],
   "source": [
    "svc_poly = SVC(kernel='poly', degree=1)\n",
    "svc_poly.fit(X_pca, y_train)\n",
    "y_pred = svc_poly.predict(X_test_pca)\n",
    "svc_poly_accuracy_pca = accuracy_score(y_test, y_pred)\n",
    "svc_poly_accuracy_pca"
   ]
  },
  {
   "cell_type": "code",
   "execution_count": 61,
   "id": "80681a4f",
   "metadata": {},
   "outputs": [
    {
     "data": {
      "text/plain": [
       "0.53625"
      ]
     },
     "execution_count": 61,
     "metadata": {},
     "output_type": "execute_result"
    }
   ],
   "source": [
    "svc_poly.fit(X_train, y_train)\n",
    "y_pred = svc_poly.predict(X_test)\n",
    "svc_poly_accuracy = accuracy_score(y_test, y_pred)\n",
    "svc_poly_accuracy"
   ]
  },
  {
   "attachments": {},
   "cell_type": "markdown",
   "id": "68800c90",
   "metadata": {},
   "source": [
    "# Lin SVC1"
   ]
  },
  {
   "cell_type": "code",
   "execution_count": 62,
   "id": "d88b5d0d",
   "metadata": {},
   "outputs": [
    {
     "data": {
      "text/plain": [
       "0.5225"
      ]
     },
     "execution_count": 62,
     "metadata": {},
     "output_type": "execute_result"
    }
   ],
   "source": [
    "lin_svc = SVC(kernel='linear')\n",
    "lin_svc.fit(X_pca, y_train)\n",
    "y_pred = lin_svc.predict(X_test_pca)\n",
    "lin_svc_accuracy_pca = accuracy_score(y_test, y_pred)\n",
    "lin_svc_accuracy_pca"
   ]
  },
  {
   "cell_type": "code",
   "execution_count": 63,
   "id": "acaa680e",
   "metadata": {},
   "outputs": [
    {
     "data": {
      "text/plain": [
       "0.47625"
      ]
     },
     "execution_count": 63,
     "metadata": {},
     "output_type": "execute_result"
    }
   ],
   "source": [
    "lin_svc.fit(X_train, y_train)\n",
    "y_pred = lin_svc.predict(X_test)\n",
    "lin_svc_accuracy = accuracy_score(y_test, y_pred)\n",
    "lin_svc_accuracy"
   ]
  },
  {
   "attachments": {},
   "cell_type": "markdown",
   "id": "c51f3469",
   "metadata": {},
   "source": [
    "# Lin SVC2"
   ]
  },
  {
   "cell_type": "code",
   "execution_count": 64,
   "id": "f6f5e614",
   "metadata": {},
   "outputs": [
    {
     "name": "stderr",
     "output_type": "stream",
     "text": [
      "c:\\Users\\SKPC\\anaconda3\\envs\\stat-254-37\\lib\\site-packages\\sklearn\\svm\\_base.py:1244: ConvergenceWarning: Liblinear failed to converge, increase the number of iterations.\n",
      "  warnings.warn(\n"
     ]
    },
    {
     "data": {
      "text/plain": [
       "0.4775"
      ]
     },
     "execution_count": 64,
     "metadata": {},
     "output_type": "execute_result"
    }
   ],
   "source": [
    "lin_svc2 = LinearSVC()\n",
    "lin_svc2.fit(X_pca, y_train)\n",
    "y_pred = lin_svc2.predict(X_test_pca)\n",
    "lin_svc2_accuracy_pca = accuracy_score(y_test, y_pred)\n",
    "lin_svc2_accuracy_pca"
   ]
  },
  {
   "cell_type": "code",
   "execution_count": 65,
   "id": "8853212d",
   "metadata": {},
   "outputs": [
    {
     "name": "stderr",
     "output_type": "stream",
     "text": [
      "c:\\Users\\SKPC\\anaconda3\\envs\\stat-254-37\\lib\\site-packages\\sklearn\\svm\\_base.py:1244: ConvergenceWarning: Liblinear failed to converge, increase the number of iterations.\n",
      "  warnings.warn(\n"
     ]
    },
    {
     "data": {
      "text/plain": [
       "0.4375"
      ]
     },
     "execution_count": 65,
     "metadata": {},
     "output_type": "execute_result"
    }
   ],
   "source": [
    "lin_svc2.fit(X_train, y_train)\n",
    "y_pred = lin_svc2.predict(X_test)\n",
    "lin_svc2_accuracy = accuracy_score(y_test, y_pred)\n",
    "lin_svc2_accuracy"
   ]
  },
  {
   "attachments": {},
   "cell_type": "markdown",
   "id": "72d57020",
   "metadata": {},
   "source": [
    "# Decision Tree"
   ]
  },
  {
   "cell_type": "code",
   "execution_count": 66,
   "id": "7a6421e0",
   "metadata": {},
   "outputs": [
    {
     "data": {
      "text/plain": [
       "0.39625"
      ]
     },
     "execution_count": 66,
     "metadata": {},
     "output_type": "execute_result"
    }
   ],
   "source": [
    "dec_tree = DecisionTreeClassifier()\n",
    "dec_tree.fit(X_pca, y_train)\n",
    "y_pred = dec_tree.predict(X_test_pca)\n",
    "dec_tree_accuracy_pca = accuracy_score(y_test, y_pred)\n",
    "dec_tree_accuracy_pca"
   ]
  },
  {
   "cell_type": "code",
   "execution_count": 67,
   "id": "6bd081ec",
   "metadata": {},
   "outputs": [
    {
     "data": {
      "text/plain": [
       "0.35875"
      ]
     },
     "execution_count": 67,
     "metadata": {},
     "output_type": "execute_result"
    }
   ],
   "source": [
    "dec_tree.fit(X_train, y_train)\n",
    "y_pred = dec_tree.predict(X_test)\n",
    "dec_tree_accuracy = accuracy_score(y_test, y_pred)\n",
    "dec_tree_accuracy"
   ]
  },
  {
   "attachments": {},
   "cell_type": "markdown",
   "id": "4bc6481c",
   "metadata": {},
   "source": [
    "# AdaBoost"
   ]
  },
  {
   "cell_type": "code",
   "execution_count": 68,
   "id": "dccc79f2",
   "metadata": {},
   "outputs": [
    {
     "data": {
      "text/plain": [
       "0.46625"
      ]
     },
     "execution_count": 68,
     "metadata": {},
     "output_type": "execute_result"
    }
   ],
   "source": [
    "ada_boost = AdaBoostClassifier()\n",
    "ada_boost.fit(X_pca, y_train)\n",
    "y_pred = ada_boost.predict(X_test_pca)\n",
    "ada_boost_accuracy_pca = accuracy_score(y_test, y_pred)\n",
    "ada_boost_accuracy_pca"
   ]
  },
  {
   "cell_type": "code",
   "execution_count": 69,
   "id": "214add61",
   "metadata": {},
   "outputs": [
    {
     "data": {
      "text/plain": [
       "0.45375"
      ]
     },
     "execution_count": 69,
     "metadata": {},
     "output_type": "execute_result"
    }
   ],
   "source": [
    "ada_boost.fit(X_train, y_train)\n",
    "y_pred = ada_boost.predict(X_test)\n",
    "ada_boost_accuracy = accuracy_score(y_test, y_pred)\n",
    "ada_boost_accuracy"
   ]
  },
  {
   "attachments": {},
   "cell_type": "markdown",
   "id": "a2c0dafb",
   "metadata": {},
   "source": [
    "# MLP1"
   ]
  },
  {
   "cell_type": "code",
   "execution_count": 70,
   "id": "66331c9f",
   "metadata": {},
   "outputs": [
    {
     "data": {
      "text/plain": [
       "0.4825"
      ]
     },
     "execution_count": 70,
     "metadata": {},
     "output_type": "execute_result"
    }
   ],
   "source": [
    "mlp1 = MLPClassifier(hidden_layer_sizes=(100,), max_iter=2000)\n",
    "mlp1.fit(X_pca, y_train)\n",
    "y_pred = mlp1.predict(X_test_pca)\n",
    "mlp1_accuracy_pca = accuracy_score(y_test, y_pred)\n",
    "mlp1_accuracy_pca"
   ]
  },
  {
   "cell_type": "code",
   "execution_count": 71,
   "id": "06bd471d",
   "metadata": {},
   "outputs": [
    {
     "data": {
      "text/plain": [
       "0.5"
      ]
     },
     "execution_count": 71,
     "metadata": {},
     "output_type": "execute_result"
    }
   ],
   "source": [
    "mlp1.fit(X_train, y_train)\n",
    "y_pred = mlp1.predict(X_test)\n",
    "mlp1_accuracy = accuracy_score(y_test, y_pred)\n",
    "mlp1_accuracy"
   ]
  },
  {
   "attachments": {},
   "cell_type": "markdown",
   "id": "c812065e",
   "metadata": {},
   "source": [
    "# MLP2"
   ]
  },
  {
   "cell_type": "code",
   "execution_count": 72,
   "id": "6e9f730e",
   "metadata": {},
   "outputs": [
    {
     "data": {
      "text/plain": [
       "0.51"
      ]
     },
     "execution_count": 72,
     "metadata": {},
     "output_type": "execute_result"
    }
   ],
   "source": [
    "mlp2 = MLPClassifier(hidden_layer_sizes=(200, 50), max_iter=2000)\n",
    "mlp2.fit(X_pca, y_train)\n",
    "y_pred = mlp2.predict(X_test_pca)\n",
    "mlp2_accuracy_pca = accuracy_score(y_test, y_pred)\n",
    "mlp2_accuracy_pca"
   ]
  },
  {
   "cell_type": "code",
   "execution_count": 73,
   "id": "5218c2f9",
   "metadata": {},
   "outputs": [
    {
     "data": {
      "text/plain": [
       "0.49125"
      ]
     },
     "execution_count": 73,
     "metadata": {},
     "output_type": "execute_result"
    }
   ],
   "source": [
    "mlp2.fit(X_train, y_train)\n",
    "y_pred = mlp2.predict(X_test)\n",
    "mlp2_accuracy = accuracy_score(y_test, y_pred)\n",
    "mlp2_accuracy"
   ]
  },
  {
   "attachments": {},
   "cell_type": "markdown",
   "id": "18e60d03",
   "metadata": {},
   "source": [
    "# NB"
   ]
  },
  {
   "cell_type": "code",
   "execution_count": 74,
   "id": "820dcb57",
   "metadata": {},
   "outputs": [
    {
     "data": {
      "text/plain": [
       "0.42"
      ]
     },
     "execution_count": 74,
     "metadata": {},
     "output_type": "execute_result"
    }
   ],
   "source": [
    "NB = GaussianNB()\n",
    "NB.fit(X_pca, y_train)\n",
    "y_pred = NB.predict(X_test_pca)\n",
    "NB_accuracy_pca = accuracy_score(y_test, y_pred)\n",
    "NB_accuracy_pca"
   ]
  },
  {
   "cell_type": "code",
   "execution_count": 75,
   "id": "65788e9a",
   "metadata": {},
   "outputs": [
    {
     "data": {
      "text/plain": [
       "0.50125"
      ]
     },
     "execution_count": 75,
     "metadata": {},
     "output_type": "execute_result"
    }
   ],
   "source": [
    "NB.fit(X_train, y_train)\n",
    "y_pred = NB.predict(X_test)\n",
    "NB_accuracy = accuracy_score(y_test, y_pred)\n",
    "NB_accuracy"
   ]
  },
  {
   "attachments": {},
   "cell_type": "markdown",
   "id": "248c3eb5",
   "metadata": {},
   "source": [
    "# QDA"
   ]
  },
  {
   "cell_type": "code",
   "execution_count": 76,
   "id": "6c1ac84f",
   "metadata": {},
   "outputs": [
    {
     "data": {
      "text/plain": [
       "0.47375"
      ]
     },
     "execution_count": 76,
     "metadata": {},
     "output_type": "execute_result"
    }
   ],
   "source": [
    "QDA = QuadraticDiscriminantAnalysis()\n",
    "QDA.fit(X_pca, y_train)\n",
    "y_pred = QDA.predict(X_test_pca)\n",
    "QDA_accuracy_pca = accuracy_score(y_test, y_pred)\n",
    "QDA_accuracy_pca"
   ]
  },
  {
   "cell_type": "code",
   "execution_count": 77,
   "id": "ed65ba68",
   "metadata": {},
   "outputs": [
    {
     "name": "stderr",
     "output_type": "stream",
     "text": [
      "c:\\Users\\SKPC\\anaconda3\\envs\\stat-254-37\\lib\\site-packages\\sklearn\\discriminant_analysis.py:926: UserWarning: Variables are collinear\n",
      "  warnings.warn(\"Variables are collinear\")\n"
     ]
    },
    {
     "data": {
      "text/plain": [
       "0.135"
      ]
     },
     "execution_count": 77,
     "metadata": {},
     "output_type": "execute_result"
    }
   ],
   "source": [
    "QDA.fit(X_train, y_train)\n",
    "y_pred = QDA.predict(X_test)\n",
    "QDA_accuracy = accuracy_score(y_test, y_pred)\n",
    "QDA_accuracy"
   ]
  },
  {
   "attachments": {},
   "cell_type": "markdown",
   "id": "41e2ce22",
   "metadata": {},
   "source": [
    "# Table of Results"
   ]
  },
  {
   "cell_type": "code",
   "execution_count": 1,
   "id": "33c6688c",
   "metadata": {},
   "outputs": [
    {
     "ename": "NameError",
     "evalue": "name 'logreg_accuracy' is not defined",
     "output_type": "error",
     "traceback": [
      "\u001b[1;31m---------------------------------------------------------------------------\u001b[0m",
      "\u001b[1;31mNameError\u001b[0m                                 Traceback (most recent call last)",
      "Cell \u001b[1;32mIn[1], line 12\u001b[0m\n\u001b[0;32m      4\u001b[0m feature_dims \u001b[39m=\u001b[39m {\n\u001b[0;32m      5\u001b[0m     \u001b[39m'\u001b[39m\u001b[39mextracted features from pretrained\u001b[39m\u001b[39m'\u001b[39m: \u001b[39m31\u001b[39m\u001b[39m*\u001b[39m\u001b[39m128\u001b[39m,\n\u001b[0;32m      6\u001b[0m     \u001b[39m'\u001b[39m\u001b[39mextracted features from pretrained after PCA\u001b[39m\u001b[39m'\u001b[39m: \u001b[39m128\u001b[39m\n\u001b[0;32m      7\u001b[0m }\n\u001b[0;32m      9\u001b[0m \u001b[39m# Define the accuracies for each model and feature set\u001b[39;00m\n\u001b[0;32m     10\u001b[0m accuracies \u001b[39m=\u001b[39m {\n\u001b[0;32m     11\u001b[0m     \u001b[39m'\u001b[39m\u001b[39mextracted features from pretrained\u001b[39m\u001b[39m'\u001b[39m: {\n\u001b[1;32m---> 12\u001b[0m         \u001b[39m'\u001b[39m\u001b[39mLR\u001b[39m\u001b[39m'\u001b[39m: logreg_accuracy,\n\u001b[0;32m     13\u001b[0m         \u001b[39m'\u001b[39m\u001b[39mkNN\u001b[39m\u001b[39m'\u001b[39m: knn_accuracy,\n\u001b[0;32m     14\u001b[0m         \u001b[39m'\u001b[39m\u001b[39mSVCrbf\u001b[39m\u001b[39m'\u001b[39m: rbf_svc_accuracy,\n\u001b[0;32m     15\u001b[0m         \u001b[39m'\u001b[39m\u001b[39mSVCpoly1\u001b[39m\u001b[39m'\u001b[39m: svc_poly_accuracy,\n\u001b[0;32m     16\u001b[0m         \u001b[39m'\u001b[39m\u001b[39mlinSVC1\u001b[39m\u001b[39m'\u001b[39m: lin_svc_accuracy,\n\u001b[0;32m     17\u001b[0m         \u001b[39m'\u001b[39m\u001b[39mlinSVC2\u001b[39m\u001b[39m'\u001b[39m: lin_svc2_accuracy,\n\u001b[0;32m     18\u001b[0m         \u001b[39m'\u001b[39m\u001b[39mDT\u001b[39m\u001b[39m'\u001b[39m: dec_tree_accuracy,\n\u001b[0;32m     19\u001b[0m         \u001b[39m'\u001b[39m\u001b[39mRF\u001b[39m\u001b[39m'\u001b[39m: rf_accuracy,\n\u001b[0;32m     20\u001b[0m         \u001b[39m'\u001b[39m\u001b[39mAdaBoost\u001b[39m\u001b[39m'\u001b[39m: ada_boost_accuracy,\n\u001b[0;32m     21\u001b[0m         \u001b[39m'\u001b[39m\u001b[39mMLP1\u001b[39m\u001b[39m'\u001b[39m: mlp1_accuracy,\n\u001b[0;32m     22\u001b[0m         \u001b[39m'\u001b[39m\u001b[39mMLP2\u001b[39m\u001b[39m'\u001b[39m: mlp2_accuracy,\n\u001b[0;32m     23\u001b[0m         \u001b[39m'\u001b[39m\u001b[39mNB\u001b[39m\u001b[39m'\u001b[39m: NB_accuracy,\n\u001b[0;32m     24\u001b[0m         \u001b[39m'\u001b[39m\u001b[39mQDA\u001b[39m\u001b[39m'\u001b[39m: QDA_accuracy,\n\u001b[0;32m     25\u001b[0m     },\n\u001b[0;32m     26\u001b[0m     \u001b[39m'\u001b[39m\u001b[39mextracted features from pretrained after PCA\u001b[39m\u001b[39m'\u001b[39m: {\n\u001b[0;32m     27\u001b[0m         \u001b[39m'\u001b[39m\u001b[39mLR\u001b[39m\u001b[39m'\u001b[39m: logreg_accuracy_pca,\n\u001b[0;32m     28\u001b[0m         \u001b[39m'\u001b[39m\u001b[39mkNN\u001b[39m\u001b[39m'\u001b[39m: knn_accuracy_pca,\n\u001b[0;32m     29\u001b[0m         \u001b[39m'\u001b[39m\u001b[39mSVCrbf\u001b[39m\u001b[39m'\u001b[39m: rbf_svc_accuracy_pca,\n\u001b[0;32m     30\u001b[0m         \u001b[39m'\u001b[39m\u001b[39mSVCpoly1\u001b[39m\u001b[39m'\u001b[39m: svc_poly_accuracy_pca,\n\u001b[0;32m     31\u001b[0m         \u001b[39m'\u001b[39m\u001b[39mlinSVC1\u001b[39m\u001b[39m'\u001b[39m: lin_svc_accuracy_pca,\n\u001b[0;32m     32\u001b[0m         \u001b[39m'\u001b[39m\u001b[39mlinSVC2\u001b[39m\u001b[39m'\u001b[39m: lin_svc2_accuracy_pca,\n\u001b[0;32m     33\u001b[0m         \u001b[39m'\u001b[39m\u001b[39mDT\u001b[39m\u001b[39m'\u001b[39m: dec_tree_accuracy_pca,\n\u001b[0;32m     34\u001b[0m         \u001b[39m'\u001b[39m\u001b[39mRF\u001b[39m\u001b[39m'\u001b[39m: rf_accuracy_pca,\n\u001b[0;32m     35\u001b[0m         \u001b[39m'\u001b[39m\u001b[39mAdaBoost\u001b[39m\u001b[39m'\u001b[39m: ada_boost_accuracy_pca,\n\u001b[0;32m     36\u001b[0m         \u001b[39m'\u001b[39m\u001b[39mMLP1\u001b[39m\u001b[39m'\u001b[39m: mlp1_accuracy_pca,\n\u001b[0;32m     37\u001b[0m         \u001b[39m'\u001b[39m\u001b[39mMLP2\u001b[39m\u001b[39m'\u001b[39m: mlp2_accuracy_pca,\n\u001b[0;32m     38\u001b[0m         \u001b[39m'\u001b[39m\u001b[39mNB\u001b[39m\u001b[39m'\u001b[39m: NB_accuracy_pca,\n\u001b[0;32m     39\u001b[0m         \u001b[39m'\u001b[39m\u001b[39mQDA\u001b[39m\u001b[39m'\u001b[39m: QDA_accuracy_pca,\n\u001b[0;32m     40\u001b[0m     }\n\u001b[0;32m     41\u001b[0m }\n\u001b[0;32m     43\u001b[0m \u001b[39m# Create a list of dictionaries for each row of the DataFrame\u001b[39;00m\n\u001b[0;32m     44\u001b[0m rows \u001b[39m=\u001b[39m []\n",
      "\u001b[1;31mNameError\u001b[0m: name 'logreg_accuracy' is not defined"
     ]
    }
   ],
   "source": [
    "import pandas as pd\n",
    "\n",
    "# Define the dimensions of each feature set\n",
    "feature_dims = {\n",
    "    'extracted features from pretrained': 31*128,\n",
    "    'extracted features from pretrained after PCA': 128\n",
    "}\n",
    "\n",
    "# Define the accuracies for each model and feature set\n",
    "accuracies = {\n",
    "    'extracted features from pretrained': {\n",
    "        'LR': logreg_accuracy,\n",
    "        'kNN': knn_accuracy,\n",
    "        'SVCrbf': rbf_svc_accuracy,\n",
    "        'SVCpoly1': svc_poly_accuracy,\n",
    "        'linSVC1': lin_svc_accuracy,\n",
    "        'linSVC2': lin_svc2_accuracy,\n",
    "        'DT': dec_tree_accuracy,\n",
    "        'RF': rf_accuracy,\n",
    "        'AdaBoost': ada_boost_accuracy,\n",
    "        'MLP1': mlp1_accuracy,\n",
    "        'MLP2': mlp2_accuracy,\n",
    "        'NB': NB_accuracy,\n",
    "        'QDA': QDA_accuracy,\n",
    "    },\n",
    "    'extracted features from pretrained after PCA': {\n",
    "        'LR': logreg_accuracy_pca,\n",
    "        'kNN': knn_accuracy_pca,\n",
    "        'SVCrbf': rbf_svc_accuracy_pca,\n",
    "        'SVCpoly1': svc_poly_accuracy_pca,\n",
    "        'linSVC1': lin_svc_accuracy_pca,\n",
    "        'linSVC2': lin_svc2_accuracy_pca,\n",
    "        'DT': dec_tree_accuracy_pca,\n",
    "        'RF': rf_accuracy_pca,\n",
    "        'AdaBoost': ada_boost_accuracy_pca,\n",
    "        'MLP1': mlp1_accuracy_pca,\n",
    "        'MLP2': mlp2_accuracy_pca,\n",
    "        'NB': NB_accuracy_pca,\n",
    "        'QDA': QDA_accuracy_pca,\n",
    "    }\n",
    "}\n",
    "\n",
    "# Create a list of dictionaries for each row of the DataFrame\n",
    "rows = []\n",
    "for feature_set, model_accs in accuracies.items():\n",
    "    row_dict = {'Feature Set': feature_set, 'Dimension': feature_dims[feature_set]}\n",
    "    row_dict.update(model_accs)\n",
    "    rows.append(row_dict)\n",
    "\n",
    "# Create the DataFrame from the list of row dictionaries\n",
    "df = pd.DataFrame(rows)\n",
    "\n",
    "# Set the index to be the Feature Set column\n",
    "df.set_index('Feature Set', inplace=True)\n",
    "\n",
    "# Print the DataFrame\n",
    "print(df)\n"
   ]
  },
  {
   "cell_type": "code",
   "execution_count": null,
   "id": "8dc74043",
   "metadata": {},
   "outputs": [],
   "source": [
    "confusion_matrix()"
   ]
  },
  {
   "cell_type": "code",
   "execution_count": 16,
   "id": "590be163",
   "metadata": {},
   "outputs": [
    {
     "data": {
      "text/plain": [
       "0.53875"
      ]
     },
     "execution_count": 58,
     "metadata": {},
     "output_type": "execute_result"
    }
   ],
   "source": [
    "accuracy_score(y_test, y_pred)"
   ]
  },
  {
   "cell_type": "code",
   "execution_count": null,
   "id": "e20f66d3",
   "metadata": {},
   "outputs": [],
   "source": []
  }
 ],
 "metadata": {
  "kernelspec": {
   "display_name": "Python 3 (ipykernel)",
   "language": "python",
   "name": "python3"
  },
  "language_info": {
   "codemirror_mode": {
    "name": "ipython",
    "version": 3
   },
   "file_extension": ".py",
   "mimetype": "text/x-python",
   "name": "python",
   "nbconvert_exporter": "python",
   "pygments_lexer": "ipython3",
   "version": "3.9.12"
  }
 },
 "nbformat": 4,
 "nbformat_minor": 5
}
